{
  "nbformat": 4,
  "nbformat_minor": 0,
  "metadata": {
    "colab": {
      "name": "faceid_beta.ipynb",
      "version": "0.3.2",
      "views": {},
      "default_view": {},
      "provenance": [],
      "collapsed_sections": []
    },
    "kernelspec": {
      "name": "python3",
      "display_name": "Python 3"
    },
    "accelerator": "GPU"
  },
  "cells": [
    {
      "metadata": {
        "id": "jUg8VqdmZX8f",
        "colab_type": "text"
      },
      "cell_type": "markdown",
      "source": [
        "# FaceID recreation using face embeddings and RGBD images.\n",
        "Made by [Norman Di Palo](https://medium.com/@normandipalo), March 2018."
      ]
    },
    {
      "metadata": {
        "id": "jj7vG-q2XjuG",
        "colab_type": "text"
      },
      "cell_type": "markdown",
      "source": [
        "# Let's start by downloading the dataset."
      ]
    },
    {
      "metadata": {
        "id": "H_8TUMLAmn8P",
        "colab_type": "code",
        "colab": {
          "autoexec": {
            "startup": false,
            "wait_interval": 0
          },
          "output_extras": [
            {
              "item_id": 2
            }
          ],
          "base_uri": "https://localhost:8080/",
          "height": 51
        },
        "outputId": "515058f5-0773-48d1-8b47-338d8e1f487d",
        "executionInfo": {
          "status": "ok",
          "timestamp": 1520874536552,
          "user_tz": -60,
          "elapsed": 1416,
          "user": {
            "displayName": "Norman Di Palo",
            "photoUrl": "//lh5.googleusercontent.com/-hwpkiYzSctg/AAAAAAAAAAI/AAAAAAAAAkg/I59DXttMdKw/s50-c-k-no/photo.jpg",
            "userId": "109405231849327541723"
          }
        }
      },
      "cell_type": "code",
      "source": [
        "!rm -r faceid_train\n",
        "!rm -r faceid_val"
      ],
      "execution_count": 2,
      "outputs": [
        {
          "output_type": "stream",
          "text": [
            "rm: cannot remove 'faceid_train': No such file or directory\n",
            "rm: cannot remove 'faceid_val': No such file or directory\n"
          ],
          "name": "stdout"
        }
      ]
    },
    {
      "metadata": {
        "id": "v3s164uzmrXW",
        "colab_type": "code",
        "colab": {
          "autoexec": {
            "startup": false,
            "wait_interval": 0
          },
          "output_extras": [
            {
              "item_id": 1
            }
          ],
          "base_uri": "https://localhost:8080/",
          "height": 34
        },
        "outputId": "a1954e21-068c-4062-bcca-c4ea744e7726",
        "executionInfo": {
          "status": "ok",
          "timestamp": 1520874537595,
          "user_tz": -60,
          "elapsed": 874,
          "user": {
            "displayName": "Norman Di Palo",
            "photoUrl": "//lh5.googleusercontent.com/-hwpkiYzSctg/AAAAAAAAAAI/AAAAAAAAAkg/I59DXttMdKw/s50-c-k-no/photo.jpg",
            "userId": "109405231849327541723"
          }
        }
      },
      "cell_type": "code",
      "source": [
        "!ls"
      ],
      "execution_count": 3,
      "outputs": [
        {
          "output_type": "stream",
          "text": [
            "datalab\r\n"
          ],
          "name": "stdout"
        }
      ]
    },
    {
      "metadata": {
        "id": "ovZVY_1L0gEz",
        "colab_type": "code",
        "colab": {
          "autoexec": {
            "startup": false,
            "wait_interval": 0
          }
        }
      },
      "cell_type": "code",
      "source": [
        "!mkdir faceid_train\n",
        "!mkdir faceid_val"
      ],
      "execution_count": 0,
      "outputs": []
    },
    {
      "metadata": {
        "id": "YZQsKxXI0lei",
        "colab_type": "code",
        "colab": {
          "autoexec": {
            "startup": false,
            "wait_interval": 0
          },
          "output_extras": [
            {
              "item_id": 4
            },
            {
              "item_id": 5
            }
          ],
          "base_uri": "https://localhost:8080/",
          "height": 510
        },
        "outputId": "e28176ad-0ed4-4b85-c435-91cee82f3fbe",
        "executionInfo": {
          "status": "ok",
          "timestamp": 1520874572816,
          "user_tz": -60,
          "elapsed": 33902,
          "user": {
            "displayName": "Norman Di Palo",
            "photoUrl": "//lh5.googleusercontent.com/-hwpkiYzSctg/AAAAAAAAAAI/AAAAAAAAAkg/I59DXttMdKw/s50-c-k-no/photo.jpg",
            "userId": "109405231849327541723"
          }
        }
      },
      "cell_type": "code",
      "source": [
        "# https://keras.io/\n",
        "!pip install -U keras\n",
        "import keras"
      ],
      "execution_count": 5,
      "outputs": [
        {
          "output_type": "stream",
          "text": [
            "Collecting keras\n",
            "  Downloading Keras-2.1.5-py2.py3-none-any.whl (334kB)\n",
            "\u001b[K    100% |████████████████████████████████| 337kB 2.3MB/s \n",
            "\u001b[?25hCollecting scipy>=0.14 (from keras)\n",
            "  Downloading scipy-1.0.0-cp36-cp36m-manylinux1_x86_64.whl (50.0MB)\n",
            "\u001b[K    100% |████████████████████████████████| 50.0MB 27kB/s \n",
            "\u001b[?25hCollecting pyyaml (from keras)\n",
            "  Downloading PyYAML-3.12.tar.gz (253kB)\n",
            "\u001b[K    100% |████████████████████████████████| 256kB 3.4MB/s \n",
            "\u001b[?25hRequirement already up-to-date: six>=1.9.0 in /usr/local/lib/python3.6/dist-packages (from keras)\n",
            "Collecting numpy>=1.9.1 (from keras)\n",
            "  Downloading numpy-1.14.1-cp36-cp36m-manylinux1_x86_64.whl (12.2MB)\n",
            "\u001b[K    100% |████████████████████████████████| 12.2MB 114kB/s \n",
            "\u001b[?25hBuilding wheels for collected packages: pyyaml\n",
            "  Running setup.py bdist_wheel for pyyaml ... \u001b[?25l-\b \b\\\b \bdone\n",
            "\u001b[?25h  Stored in directory: /content/.cache/pip/wheels/2c/f7/79/13f3a12cd723892437c0cfbde1230ab4d82947ff7b3839a4fc\n",
            "Successfully built pyyaml\n",
            "Installing collected packages: numpy, scipy, pyyaml, keras\n",
            "  Found existing installation: numpy 1.14.0\n",
            "    Uninstalling numpy-1.14.0:\n",
            "      Successfully uninstalled numpy-1.14.0\n",
            "  Found existing installation: scipy 0.19.1\n",
            "    Uninstalling scipy-0.19.1:\n",
            "      Successfully uninstalled scipy-0.19.1\n",
            "  Found existing installation: PyYAML 3.11\n",
            "    Uninstalling PyYAML-3.11:\n",
            "      Successfully uninstalled PyYAML-3.11\n",
            "Successfully installed keras-2.1.5 numpy-1.14.1 pyyaml-3.12 scipy-1.0.0\n"
          ],
          "name": "stdout"
        },
        {
          "output_type": "stream",
          "text": [
            "Using TensorFlow backend.\n"
          ],
          "name": "stderr"
        }
      ]
    },
    {
      "metadata": {
        "id": "mtBhj2akp_0O",
        "colab_type": "code",
        "colab": {
          "autoexec": {
            "startup": false,
            "wait_interval": 0
          }
        }
      },
      "cell_type": "code",
      "source": [
        "link_list=[\"http://vap.aau.dk/wp-content/uploads/VAPRBGD/(2012-05-16)(151751).zip\", \"http://vap.aau.dk/wp-content/uploads/VAPRBGD/(2012-05-16)(153054).zip\", \"http://vap.aau.dk/wp-content/uploads/VAPRBGD/(2012-05-16)(154211).zip\", \"http://vap.aau.dk/wp-content/uploads/VAPRBGD/(2012-05-16)(160440).zip\", \"http://vap.aau.dk/wp-content/uploads/VAPRBGD/(2012-05-16)(160931).zip\", \"http://vap.aau.dk/wp-content/uploads/VAPRBGD/(2012-05-16)(161342).zip\", \"http://vap.aau.dk/wp-content/uploads/VAPRBGD/(2012-05-16)(163349).zip\", \"http://vap.aau.dk/wp-content/uploads/VAPRBGD/(2012-05-16)(164248).zip\", \"http://vap.aau.dk/wp-content/uploads/VAPRBGD/(2012-05-17)(141550).zip\", \\\n",
        "          \"http://vap.aau.dk/wp-content/uploads/VAPRBGD/(2012-05-17)(142154).zip\", \"http://vap.aau.dk/wp-content/uploads/VAPRBGD/(2012-05-17)(142457).zip\", \"http://vap.aau.dk/wp-content/uploads/VAPRBGD/(2012-05-17)(143016).zip\", \"http://vap.aau.dk/wp-content/uploads/VAPRBGD/(2012-05-18)(132824).zip\", \"http://vap.aau.dk/wp-content/uploads/VAPRBGD/(2012-05-18)(133201).zip\", \"http://vap.aau.dk/wp-content/uploads/VAPRBGD/(2012-05-18)(133846).zip\", \\\n",
        "          \"http://vap.aau.dk/wp-content/uploads/VAPRBGD/(2012-05-18)(134239).zip\", \"http://vap.aau.dk/wp-content/uploads/VAPRBGD/(2012-05-18)(134757).zip\", \"http://vap.aau.dk/wp-content/uploads/VAPRBGD/(2012-05-18)(140516).zip\", \"http://vap.aau.dk/wp-content/uploads/VAPRBGD/(2012-05-18)(143345).zip\", \"http://vap.aau.dk/wp-content/uploads/VAPRBGD/(2012-05-18)(144316).zip\", \"http://vap.aau.dk/wp-content/uploads/VAPRBGD/(2012-05-18)(145150).zip\", \"http://vap.aau.dk/wp-content/uploads/VAPRBGD/(2012-05-18)(145623).zip\", \"http://vap.aau.dk/wp-content/uploads/VAPRBGD/(2012-05-18)(150303).zip\", \\\n",
        "          \"http://vap.aau.dk/wp-content/uploads/VAPRBGD/(2012-05-18)(150650).zip\", \"http://vap.aau.dk/wp-content/uploads/VAPRBGD/(2012-05-18)(151337).zip\", \"http://vap.aau.dk/wp-content/uploads/VAPRBGD/(2012-05-18)(151650).zip\"]\n",
        "val_list=[\"http://vap.aau.dk/wp-content/uploads/VAPRBGD/(2012-05-18)(152717).zip\", \"http://vap.aau.dk/wp-content/uploads/VAPRBGD/(2012-05-18)(153532).zip\", \"http://vap.aau.dk/wp-content/uploads/VAPRBGD/(2012-05-18)(154129).zip\", \"http://vap.aau.dk/wp-content/uploads/VAPRBGD/(2012-05-18)(154728).zip\", \"http://vap.aau.dk/wp-content/uploads/VAPRBGD/(2012-05-18)(155357).zip\"]"
      ],
      "execution_count": 0,
      "outputs": []
    },
    {
      "metadata": {
        "id": "3muEPTwDkQ5J",
        "colab_type": "code",
        "colab": {
          "autoexec": {
            "startup": false,
            "wait_interval": 0
          }
        }
      },
      "cell_type": "code",
      "source": [
        "import requests, zipfile, io\n",
        "for link in link_list:\n",
        "  r = requests.get(link, stream=True)\n",
        "  z = zipfile.ZipFile(io.BytesIO(r.content))\n",
        "  z.extractall(\"faceid_train\")\n",
        "for link in val_list:\n",
        "  r = requests.get(link, stream=True)\n",
        "  z = zipfile.ZipFile(io.BytesIO(r.content))\n",
        "  z.extractall(\"faceid_val\")"
      ],
      "execution_count": 0,
      "outputs": []
    },
    {
      "metadata": {
        "id": "8oO8m58qXro4",
        "colab_type": "text"
      },
      "cell_type": "markdown",
      "source": [
        "# Input preprocessing.\n",
        "Here we create some functions that will create the input couple for our model, both correct and wrong couples. I created functions to have both depth-only input and RGBD inputs."
      ]
    },
    {
      "metadata": {
        "id": "-1wK9iPVkshW",
        "colab_type": "code",
        "colab": {
          "autoexec": {
            "startup": false,
            "wait_interval": 0
          }
        }
      },
      "cell_type": "code",
      "source": [
        "import numpy as np\n",
        "import glob\n",
        "import matplotlib.pyplot as plt\n",
        "from PIL import Image"
      ],
      "execution_count": 0,
      "outputs": []
    },
    {
      "metadata": {
        "id": "TfBuWehTl5hF",
        "colab_type": "code",
        "colab": {
          "autoexec": {
            "startup": false,
            "wait_interval": 0
          }
        }
      },
      "cell_type": "code",
      "source": [
        "def create_couple(file_path):\n",
        "    folder=np.random.choice(glob.glob(file_path + \"*\"))\n",
        "    while folder == \"datalab\":\n",
        "      folder=np.random.choice(glob.glob(file_path + \"*\"))\n",
        "  #  print(folder)\n",
        "    mat=np.zeros((480,640), dtype='float32')\n",
        "    i=0\n",
        "    j=0\n",
        "    depth_file = np.random.choice(glob.glob(folder + \"/*.dat\"))\n",
        "    with open(depth_file) as file:\n",
        "        for line in file:\n",
        "            vals = line.split('\\t')\n",
        "            for val in vals:\n",
        "                if val == \"\\n\": continue \n",
        "                if int(val) > 1200 or int(val) == -1: val= 1200\n",
        "                mat[i][j]=float(int(val))\n",
        "                j+=1\n",
        "                j=j%640\n",
        "\n",
        "            i+=1\n",
        "        mat = np.asarray(mat)\n",
        "    mat_small=mat[140:340,220:420]\n",
        "    mat_small=(mat_small-np.mean(mat_small))/np.max(mat_small)\n",
        "#    plt.imshow(mat_small)\n",
        "#    plt.show()\n",
        "    \n",
        "    mat2=np.zeros((480,640), dtype='float32')\n",
        "    i=0\n",
        "    j=0\n",
        "    depth_file = np.random.choice(glob.glob(folder + \"/*.dat\"))\n",
        "    with open(depth_file) as file:\n",
        "        for line in file:\n",
        "            vals = line.split('\\t')\n",
        "            for val in vals:\n",
        "                if val == \"\\n\": continue \n",
        "                if int(val) > 1200 or int(val) == -1: val= 1200\n",
        "                mat2[i][j]=float(int(val))\n",
        "                j+=1\n",
        "                j=j%640\n",
        "\n",
        "            i+=1\n",
        "        mat2 = np.asarray(mat2)\n",
        "    mat2_small=mat2[140:340,220:420]\n",
        "    mat2_small=(mat2_small-np.mean(mat2_small))/np.max(mat2_small)\n",
        "#    plt.imshow(mat2_small)\n",
        "#    plt.show()\n",
        "    return np.array([mat_small, mat2_small])"
      ],
      "execution_count": 0,
      "outputs": []
    },
    {
      "metadata": {
        "id": "xuVaH9UvBmTl",
        "colab_type": "code",
        "colab": {
          "autoexec": {
            "startup": false,
            "wait_interval": 0
          },
          "output_extras": [
            {
              "item_id": 1
            }
          ],
          "base_uri": "https://localhost:8080/",
          "height": 476
        },
        "outputId": "2fc81cfc-7677-4554-de66-5205c5fa02c1",
        "executionInfo": {
          "status": "ok",
          "timestamp": 1520875650316,
          "user_tz": -60,
          "elapsed": 2380,
          "user": {
            "displayName": "Norman Di Palo",
            "photoUrl": "//lh5.googleusercontent.com/-hwpkiYzSctg/AAAAAAAAAAI/AAAAAAAAAkg/I59DXttMdKw/s50-c-k-no/photo.jpg",
            "userId": "109405231849327541723"
          }
        }
      },
      "cell_type": "code",
      "source": [
        "print(create_couple(\"faceid_train/\"))"
      ],
      "execution_count": 11,
      "outputs": [
        {
          "output_type": "stream",
          "text": [
            "[[[ 0.10215505  0.10215505  0.10215505 ...  0.10215505  0.10215505\n",
            "    0.10215505]\n",
            "  [ 0.10215505  0.10215505  0.10215505 ...  0.10215505  0.10215505\n",
            "    0.10215505]\n",
            "  [ 0.10215505  0.10215505  0.10215505 ...  0.10215505  0.10215505\n",
            "    0.10215505]\n",
            "  ...\n",
            "  [-0.06117828 -0.06117828 -0.06367829 ...  0.10215505  0.10215505\n",
            "    0.10215505]\n",
            "  [-0.06367829 -0.06617828 -0.06617828 ...  0.10215505  0.10215505\n",
            "    0.10215505]\n",
            "  [-0.06617828 -0.06617828 -0.06867828 ...  0.10215505  0.10215505\n",
            "    0.10215505]]\n",
            "\n",
            " [[ 0.09494985  0.09494985  0.09494985 ...  0.09494985  0.09494985\n",
            "    0.09494985]\n",
            "  [ 0.09494985  0.09494985  0.09494985 ...  0.09494985  0.09494985\n",
            "    0.09494985]\n",
            "  [ 0.09494985  0.09494985  0.09494985 ...  0.09494985  0.09494985\n",
            "    0.09494985]\n",
            "  ...\n",
            "  [-0.06338348 -0.06338348 -0.06588349 ...  0.09494985  0.09494985\n",
            "    0.09494985]\n",
            "  [-0.06588349 -0.06588349 -0.06588349 ...  0.09494985  0.09494985\n",
            "    0.09494985]\n",
            "  [-0.06588349 -0.06588349 -0.06838349 ...  0.09494985  0.09494985\n",
            "    0.09494985]]]\n"
          ],
          "name": "stdout"
        }
      ]
    },
    {
      "metadata": {
        "id": "Fouazlib4jj7",
        "colab_type": "code",
        "colab": {
          "autoexec": {
            "startup": false,
            "wait_interval": 0
          }
        }
      },
      "cell_type": "code",
      "source": [
        "def create_couple_rgbd(file_path):\n",
        "    folder=np.random.choice(glob.glob(file_path + \"*\"))\n",
        "    while folder == \"datalab\":\n",
        "      folder=np.random.choice(glob.glob(file_path + \"*\"))\n",
        "  #  print(folder)\n",
        "    mat=np.zeros((480,640), dtype='float32')\n",
        "    i=0\n",
        "    j=0\n",
        "    depth_file = np.random.choice(glob.glob(folder + \"/*.dat\"))\n",
        "    with open(depth_file) as file:\n",
        "        for line in file:\n",
        "            vals = line.split('\\t')\n",
        "            for val in vals:\n",
        "                if val == \"\\n\": continue    \n",
        "                if int(val) > 1200 or int(val) == -1: val= 1200\n",
        "                mat[i][j]=float(int(val))\n",
        "                j+=1\n",
        "                j=j%640\n",
        "\n",
        "            i+=1\n",
        "        mat = np.asarray(mat)\n",
        "    mat_small=mat[140:340,220:420]\n",
        "    img = Image.open(depth_file[:-5] + \"c.bmp\")\n",
        "    img.thumbnail((640,480))\n",
        "    img = np.asarray(img)\n",
        "    img = img[140:340,220:420]\n",
        "    mat_small=(mat_small-np.mean(mat_small))/np.max(mat_small)\n",
        "#    plt.imshow(mat_small)\n",
        "#    plt.show()\n",
        "#    plt.imshow(img)\n",
        "#    plt.show()\n",
        "    \n",
        "    \n",
        "    mat2=np.zeros((480,640), dtype='float32')\n",
        "    i=0\n",
        "    j=0\n",
        "    depth_file = np.random.choice(glob.glob(folder + \"/*.dat\"))\n",
        "    with open(depth_file) as file:\n",
        "        for line in file:\n",
        "            vals = line.split('\\t')\n",
        "            for val in vals:\n",
        "                if val == \"\\n\": continue\n",
        "                if int(val) > 1200 or int(val) == -1: val= 1200\n",
        "                mat2[i][j]=float(int(val))\n",
        "                j+=1\n",
        "                j=j%640\n",
        "\n",
        "            i+=1\n",
        "        mat2 = np.asarray(mat2)\n",
        "    mat2_small=mat2[140:340,220:420]\n",
        "    img2 = Image.open(depth_file[:-5] + \"c.bmp\")\n",
        "    img2.thumbnail((640,480))\n",
        "    img2 = np.asarray(img2)\n",
        "    img2 = img2[160:360,240:440]\n",
        "\n",
        " #   plt.imshow(img2)\n",
        " #   plt.show()\n",
        "    mat2_small=(mat2_small-np.mean(mat2_small))/np.max(mat2_small)\n",
        " #   plt.imshow(mat2_small)\n",
        " #   plt.show()\n",
        "    \n",
        "    full1 = np.zeros((200,200,4))\n",
        "    full1[:,:,:3] = img[:,:,:3]\n",
        "    full1[:,:,3] = mat_small\n",
        "    \n",
        "    full2 = np.zeros((200,200,4))\n",
        "    full2[:,:,:3] = img2[:,:,:3]\n",
        "    full2[:,:,3] = mat2_small\n",
        "    return np.array([full1, full2])"
      ],
      "execution_count": 0,
      "outputs": []
    },
    {
      "metadata": {
        "id": "icTcfztOl9wY",
        "colab_type": "code",
        "colab": {
          "autoexec": {
            "startup": false,
            "wait_interval": 0
          },
          "output_extras": [
            {
              "item_id": 1
            }
          ],
          "base_uri": "https://localhost:8080/",
          "height": 2941
        },
        "outputId": "be73b5b7-47fd-4355-944d-c62afe620588",
        "executionInfo": {
          "status": "ok",
          "timestamp": 1520875654430,
          "user_tz": -60,
          "elapsed": 1543,
          "user": {
            "displayName": "Norman Di Palo",
            "photoUrl": "//lh5.googleusercontent.com/-hwpkiYzSctg/AAAAAAAAAAI/AAAAAAAAAkg/I59DXttMdKw/s50-c-k-no/photo.jpg",
            "userId": "109405231849327541723"
          }
        }
      },
      "cell_type": "code",
      "source": [
        "create_couple_rgbd(\"faceid_val/\")"
      ],
      "execution_count": 13,
      "outputs": [
        {
          "output_type": "execute_result",
          "data": {
            "text/plain": [
              "array([[[[ 1.85000000e+02,  1.75000000e+02,  1.49000000e+02,\n",
              "           7.03941882e-02],\n",
              "         [ 1.86000000e+02,  1.73000000e+02,  1.54000000e+02,\n",
              "           7.03941882e-02],\n",
              "         [ 1.87000000e+02,  1.73000000e+02,  1.54000000e+02,\n",
              "           7.03941882e-02],\n",
              "         ...,\n",
              "         [ 1.65000000e+02,  1.62000000e+02,  1.45000000e+02,\n",
              "           7.03941882e-02],\n",
              "         [ 1.63000000e+02,  1.61000000e+02,  1.43000000e+02,\n",
              "           7.03941882e-02],\n",
              "         [ 1.62000000e+02,  1.60000000e+02,  1.41000000e+02,\n",
              "           7.03941882e-02]],\n",
              "\n",
              "        [[ 1.86000000e+02,  1.75000000e+02,  1.49000000e+02,\n",
              "           7.03941882e-02],\n",
              "         [ 1.87000000e+02,  1.72000000e+02,  1.52000000e+02,\n",
              "           7.03941882e-02],\n",
              "         [ 1.87000000e+02,  1.73000000e+02,  1.54000000e+02,\n",
              "           7.03941882e-02],\n",
              "         ...,\n",
              "         [ 1.65000000e+02,  1.62000000e+02,  1.41000000e+02,\n",
              "           7.03941882e-02],\n",
              "         [ 1.65000000e+02,  1.61000000e+02,  1.39000000e+02,\n",
              "           7.03941882e-02],\n",
              "         [ 1.64000000e+02,  1.60000000e+02,  1.39000000e+02,\n",
              "           7.03941882e-02]],\n",
              "\n",
              "        [[ 1.86000000e+02,  1.73000000e+02,  1.49000000e+02,\n",
              "           7.03941882e-02],\n",
              "         [ 1.87000000e+02,  1.72000000e+02,  1.49000000e+02,\n",
              "           7.03941882e-02],\n",
              "         [ 1.87000000e+02,  1.73000000e+02,  1.53000000e+02,\n",
              "           7.03941882e-02],\n",
              "         ...,\n",
              "         [ 1.64000000e+02,  1.60000000e+02,  1.40000000e+02,\n",
              "           7.03941882e-02],\n",
              "         [ 1.64000000e+02,  1.58000000e+02,  1.40000000e+02,\n",
              "           7.03941882e-02],\n",
              "         [ 1.65000000e+02,  1.60000000e+02,  1.40000000e+02,\n",
              "           7.03941882e-02]],\n",
              "\n",
              "        ...,\n",
              "\n",
              "        [[ 4.40000000e+01,  4.40000000e+01,  5.30000000e+01,\n",
              "          -6.54391497e-02],\n",
              "         [ 3.90000000e+01,  4.30000000e+01,  5.20000000e+01,\n",
              "          -6.29391447e-02],\n",
              "         [ 3.80000000e+01,  4.00000000e+01,  5.20000000e+01,\n",
              "          -6.54391497e-02],\n",
              "         ...,\n",
              "         [ 2.70000000e+01,  3.20000000e+01,  4.60000000e+01,\n",
              "          -7.54391477e-02],\n",
              "         [ 2.60000000e+01,  3.10000000e+01,  4.50000000e+01,\n",
              "          -7.54391477e-02],\n",
              "         [ 2.80000000e+01,  3.00000000e+01,  4.30000000e+01,\n",
              "          -7.54391477e-02]],\n",
              "\n",
              "        [[ 4.20000000e+01,  4.30000000e+01,  5.20000000e+01,\n",
              "          -6.54391497e-02],\n",
              "         [ 3.90000000e+01,  4.30000000e+01,  5.20000000e+01,\n",
              "          -6.54391497e-02],\n",
              "         [ 3.70000000e+01,  4.20000000e+01,  5.10000000e+01,\n",
              "          -6.54391497e-02],\n",
              "         ...,\n",
              "         [ 2.90000000e+01,  3.00000000e+01,  4.40000000e+01,\n",
              "          -7.79391453e-02],\n",
              "         [ 2.90000000e+01,  2.90000000e+01,  4.30000000e+01,\n",
              "          -7.54391477e-02],\n",
              "         [ 2.60000000e+01,  3.00000000e+01,  4.50000000e+01,\n",
              "          -7.54391477e-02]],\n",
              "\n",
              "        [[ 4.40000000e+01,  4.20000000e+01,  5.30000000e+01,\n",
              "          -6.79391474e-02],\n",
              "         [ 4.10000000e+01,  4.30000000e+01,  5.30000000e+01,\n",
              "          -6.79391474e-02],\n",
              "         [ 3.90000000e+01,  4.30000000e+01,  5.00000000e+01,\n",
              "          -6.79391474e-02],\n",
              "         ...,\n",
              "         [ 3.00000000e+01,  2.90000000e+01,  4.10000000e+01,\n",
              "          -7.79391453e-02],\n",
              "         [ 2.90000000e+01,  2.90000000e+01,  4.00000000e+01,\n",
              "          -7.79391453e-02],\n",
              "         [ 2.80000000e+01,  3.00000000e+01,  4.30000000e+01,\n",
              "          -7.79391453e-02]]],\n",
              "\n",
              "\n",
              "       [[[ 1.80000000e+02,  1.75000000e+02,  1.47000000e+02,\n",
              "           6.64661676e-02],\n",
              "         [ 1.82000000e+02,  1.72000000e+02,  1.48000000e+02,\n",
              "           6.64661676e-02],\n",
              "         [ 1.83000000e+02,  1.72000000e+02,  1.52000000e+02,\n",
              "           6.64661676e-02],\n",
              "         ...,\n",
              "         [ 1.66000000e+02,  1.60000000e+02,  1.39000000e+02,\n",
              "           6.64661676e-02],\n",
              "         [ 1.65000000e+02,  1.59000000e+02,  1.39000000e+02,\n",
              "           6.64661676e-02],\n",
              "         [ 1.65000000e+02,  1.60000000e+02,  1.36000000e+02,\n",
              "           6.64661676e-02]],\n",
              "\n",
              "        [[ 1.81000000e+02,  1.75000000e+02,  1.48000000e+02,\n",
              "           6.64661676e-02],\n",
              "         [ 1.82000000e+02,  1.75000000e+02,  1.50000000e+02,\n",
              "           6.64661676e-02],\n",
              "         [ 1.82000000e+02,  1.76000000e+02,  1.51000000e+02,\n",
              "           6.64661676e-02],\n",
              "         ...,\n",
              "         [ 1.66000000e+02,  1.61000000e+02,  1.38000000e+02,\n",
              "           6.64661676e-02],\n",
              "         [ 1.67000000e+02,  1.60000000e+02,  1.35000000e+02,\n",
              "           6.64661676e-02],\n",
              "         [ 1.67000000e+02,  1.58000000e+02,  1.35000000e+02,\n",
              "           6.64661676e-02]],\n",
              "\n",
              "        [[ 1.82000000e+02,  1.75000000e+02,  1.51000000e+02,\n",
              "           6.64661676e-02],\n",
              "         [ 1.83000000e+02,  1.77000000e+02,  1.54000000e+02,\n",
              "           6.64661676e-02],\n",
              "         [ 1.83000000e+02,  1.77000000e+02,  1.53000000e+02,\n",
              "           6.64661676e-02],\n",
              "         ...,\n",
              "         [ 1.66000000e+02,  1.59000000e+02,  1.41000000e+02,\n",
              "           6.64661676e-02],\n",
              "         [ 1.69000000e+02,  1.59000000e+02,  1.40000000e+02,\n",
              "           6.64661676e-02],\n",
              "         [ 1.69000000e+02,  1.58000000e+02,  1.41000000e+02,\n",
              "           6.64661676e-02]],\n",
              "\n",
              "        ...,\n",
              "\n",
              "        [[ 3.10000000e+01,  3.50000000e+01,  4.00000000e+01,\n",
              "          -6.35338351e-02],\n",
              "         [ 3.00000000e+01,  3.40000000e+01,  3.70000000e+01,\n",
              "          -6.35338351e-02],\n",
              "         [ 3.00000000e+01,  3.30000000e+01,  3.90000000e+01,\n",
              "          -6.35338351e-02],\n",
              "         ...,\n",
              "         [ 3.00000000e+01,  3.00000000e+01,  4.20000000e+01,\n",
              "          -7.18671679e-02],\n",
              "         [ 3.00000000e+01,  3.20000000e+01,  4.90000000e+01,\n",
              "          -7.18671679e-02],\n",
              "         [ 3.20000000e+01,  3.20000000e+01,  5.10000000e+01,\n",
              "          -7.18671679e-02]],\n",
              "\n",
              "        [[ 3.00000000e+01,  3.50000000e+01,  4.30000000e+01,\n",
              "          -6.68671653e-02],\n",
              "         [ 2.80000000e+01,  3.40000000e+01,  4.10000000e+01,\n",
              "          -6.35338351e-02],\n",
              "         [ 2.70000000e+01,  3.30000000e+01,  4.20000000e+01,\n",
              "          -6.35338351e-02],\n",
              "         ...,\n",
              "         [ 3.10000000e+01,  3.00000000e+01,  4.50000000e+01,\n",
              "          -7.18671679e-02],\n",
              "         [ 3.00000000e+01,  3.00000000e+01,  4.70000000e+01,\n",
              "          -7.18671679e-02],\n",
              "         [ 3.10000000e+01,  3.30000000e+01,  4.80000000e+01,\n",
              "          -7.18671679e-02]],\n",
              "\n",
              "        [[ 3.20000000e+01,  3.30000000e+01,  4.60000000e+01,\n",
              "          -6.68671653e-02],\n",
              "         [ 2.90000000e+01,  3.30000000e+01,  4.20000000e+01,\n",
              "          -6.68671653e-02],\n",
              "         [ 2.70000000e+01,  3.20000000e+01,  4.10000000e+01,\n",
              "          -6.68671653e-02],\n",
              "         ...,\n",
              "         [ 3.10000000e+01,  2.90000000e+01,  4.70000000e+01,\n",
              "          -7.43671656e-02],\n",
              "         [ 3.00000000e+01,  3.10000000e+01,  4.60000000e+01,\n",
              "          -7.43671656e-02],\n",
              "         [ 3.10000000e+01,  3.30000000e+01,  4.70000000e+01,\n",
              "          -7.18671679e-02]]]])"
            ]
          },
          "metadata": {
            "tags": []
          },
          "execution_count": 13
        }
      ]
    },
    {
      "metadata": {
        "id": "nNpd2wwKnT4b",
        "colab_type": "code",
        "colab": {
          "autoexec": {
            "startup": false,
            "wait_interval": 0
          }
        }
      },
      "cell_type": "code",
      "source": [
        "def create_wrong(file_path):\n",
        "    folder=np.random.choice(glob.glob(file_path + \"*\"))\n",
        "    while folder == \"datalab\":\n",
        "      folder=np.random.choice(glob.glob(file_path + \"*\"))    \n",
        "    mat=np.zeros((480,640), dtype='float32')\n",
        "    i=0\n",
        "    j=0\n",
        "    depth_file = np.random.choice(glob.glob(folder + \"/*.dat\"))\n",
        "    with open(depth_file) as file:\n",
        "        for line in file:\n",
        "            vals = line.split('\\t')\n",
        "            for val in vals:\n",
        "                if val == \"\\n\": continue \n",
        "                if int(val) > 1200 or int(val) == -1: val= 1200\n",
        "                mat[i][j]=float(int(val))\n",
        "                j+=1\n",
        "                j=j%640\n",
        "\n",
        "            i+=1\n",
        "        mat = np.asarray(mat)\n",
        "    mat_small=mat[140:340,220:420]\n",
        "    mat_small=(mat_small-np.mean(mat_small))/np.max(mat_small)\n",
        " #   plt.imshow(mat_small)\n",
        " #   plt.show()\n",
        "    \n",
        "    folder2=np.random.choice(glob.glob(file_path + \"*\"))\n",
        "    while folder==folder2 or folder2==\"datalab\": #it activates if it chose the same folder\n",
        "        folder2=np.random.choice(glob.glob(file_path + \"*\"))\n",
        "    mat2=np.zeros((480,640), dtype='float32')\n",
        "    i=0\n",
        "    j=0\n",
        "    depth_file = np.random.choice(glob.glob(folder2 + \"/*.dat\"))\n",
        "    with open(depth_file) as file:\n",
        "        for line in file:\n",
        "            vals = line.split('\\t')\n",
        "            for val in vals:\n",
        "                if val == \"\\n\": continue\n",
        "                if int(val) > 1200 or int(val) == -1: val= 1200\n",
        "                mat2[i][j]=float(int(val))\n",
        "                j+=1\n",
        "                j=j%640\n",
        "\n",
        "            i+=1\n",
        "        mat2 = np.asarray(mat2)\n",
        "    mat2_small=mat2[140:340,220:420]\n",
        "    mat2_small=(mat2_small-np.mean(mat2_small))/np.max(mat2_small)\n",
        " #   plt.imshow(mat2_small)\n",
        " #   plt.show()\n",
        "  \n",
        "    \n",
        "    return np.array([mat_small, mat2_small])"
      ],
      "execution_count": 0,
      "outputs": []
    },
    {
      "metadata": {
        "id": "NzsUozpkEp2s",
        "colab_type": "code",
        "colab": {
          "autoexec": {
            "startup": false,
            "wait_interval": 0
          },
          "output_extras": [
            {
              "item_id": 1
            }
          ],
          "base_uri": "https://localhost:8080/",
          "height": 476
        },
        "outputId": "fcd17e6e-45a9-4d6f-8a33-4aebba4aec44",
        "executionInfo": {
          "status": "ok",
          "timestamp": 1520875659583,
          "user_tz": -60,
          "elapsed": 1810,
          "user": {
            "displayName": "Norman Di Palo",
            "photoUrl": "//lh5.googleusercontent.com/-hwpkiYzSctg/AAAAAAAAAAI/AAAAAAAAAkg/I59DXttMdKw/s50-c-k-no/photo.jpg",
            "userId": "109405231849327541723"
          }
        }
      },
      "cell_type": "code",
      "source": [
        "create_wrong(\"faceid_train/\")"
      ],
      "execution_count": 15,
      "outputs": [
        {
          "output_type": "execute_result",
          "data": {
            "text/plain": [
              "array([[[ 0.15714498,  0.15714498,  0.15714498, ...,  0.15714498,\n",
              "          0.15714498,  0.15714498],\n",
              "        [ 0.15714498,  0.15714498,  0.15714498, ...,  0.15714498,\n",
              "          0.15714498,  0.15714498],\n",
              "        [ 0.15714498,  0.15714498,  0.15714498, ...,  0.15714498,\n",
              "          0.15714498,  0.15714498],\n",
              "        ...,\n",
              "        [-0.02285502, -0.02285502, -0.02285502, ..., -0.04785502,\n",
              "         -0.04785502, -0.04535502],\n",
              "        [-0.02285502, -0.02535502, -0.02535502, ..., -0.04952169,\n",
              "         -0.04785502, -0.04785502],\n",
              "        [-0.02785502, -0.02785502, -0.02952169, ..., -0.04952169,\n",
              "         -0.04952169, -0.04952169]],\n",
              "\n",
              "       [[ 0.06464213,  0.06464213,  0.06464213, ...,  0.06464213,\n",
              "          0.06464213,  0.06464213],\n",
              "        [ 0.06464213,  0.06464213,  0.06464213, ...,  0.06464213,\n",
              "          0.06464213,  0.06464213],\n",
              "        [ 0.06464213,  0.06464213,  0.06464213, ...,  0.06464213,\n",
              "          0.06464213,  0.06464213],\n",
              "        ...,\n",
              "        [ 0.06464213,  0.06464213,  0.06464213, ...,  0.06464213,\n",
              "          0.06464213,  0.06464213],\n",
              "        [ 0.06464213,  0.06464213,  0.06464213, ...,  0.06464213,\n",
              "          0.06464213,  0.06464213],\n",
              "        [ 0.06464213,  0.06464213,  0.06464213, ...,  0.06464213,\n",
              "          0.06464213,  0.06464213]]], dtype=float32)"
            ]
          },
          "metadata": {
            "tags": []
          },
          "execution_count": 15
        }
      ]
    },
    {
      "metadata": {
        "id": "kbcdYKNj-cou",
        "colab_type": "code",
        "colab": {
          "autoexec": {
            "startup": false,
            "wait_interval": 0
          }
        }
      },
      "cell_type": "code",
      "source": [
        "def create_wrong_rgbd(file_path):\n",
        "    folder=np.random.choice(glob.glob(file_path + \"*\"))\n",
        "    while folder == \"datalab\":\n",
        "      folder=np.random.choice(glob.glob(file_path + \"*\"))    \n",
        "    mat=np.zeros((480,640), dtype='float32')\n",
        "    i=0\n",
        "    j=0\n",
        "    depth_file = np.random.choice(glob.glob(folder + \"/*.dat\"))\n",
        "    with open(depth_file) as file:\n",
        "        for line in file:\n",
        "            vals = line.split('\\t')\n",
        "            for val in vals:\n",
        "                if val == \"\\n\": continue\n",
        "                if int(val) > 1200 or int(val) == -1: val= 1200\n",
        "                mat[i][j]=float(int(val))\n",
        "                j+=1\n",
        "                j=j%640\n",
        "\n",
        "            i+=1\n",
        "        mat = np.asarray(mat)\n",
        "    mat_small=mat[140:340,220:420]\n",
        "    img = Image.open(depth_file[:-5] + \"c.bmp\")\n",
        "    img.thumbnail((640,480))\n",
        "    img = np.asarray(img)\n",
        "    img = img[140:340,220:420]\n",
        "    mat_small=(mat_small-np.mean(mat_small))/np.max(mat_small)\n",
        "  #  plt.imshow(img)\n",
        "  #  plt.show()\n",
        "  #  plt.imshow(mat_small)\n",
        "  #  plt.show()\n",
        "    folder2=np.random.choice(glob.glob(file_path + \"*\"))\n",
        "    while folder==folder2 or folder2==\"datalab\": #it activates if it chose the same folder\n",
        "        folder2=np.random.choice(glob.glob(file_path + \"*\"))\n",
        "    mat2=np.zeros((480,640), dtype='float32')\n",
        "    i=0\n",
        "    j=0\n",
        "    depth_file = np.random.choice(glob.glob(folder2 + \"/*.dat\"))\n",
        "    with open(depth_file) as file:\n",
        "        for line in file:\n",
        "            vals = line.split('\\t')\n",
        "            for val in vals:\n",
        "                if val == \"\\n\": continue \n",
        "                if int(val) > 1200 or int(val) == -1: val= 1200\n",
        "                mat2[i][j]=float(int(val))\n",
        "                j+=1\n",
        "                j=j%640\n",
        "\n",
        "            i+=1\n",
        "        mat2 = np.asarray(mat2)\n",
        "    mat2_small=mat2[140:340,220:420]\n",
        "    img2 = Image.open(depth_file[:-5] + \"c.bmp\")\n",
        "    img2.thumbnail((640,480))\n",
        "    img2 = np.asarray(img2)\n",
        "    img2 = img2[140:340,220:420]\n",
        "    mat2_small=(mat2_small-np.mean(mat2_small))/np.max(mat2_small)\n",
        " #   plt.imshow(img2)\n",
        " #   plt.show()\n",
        " #   plt.imshow(mat2_small)\n",
        " #   plt.show()\n",
        "    full1 = np.zeros((200,200,4))\n",
        "    full1[:,:,:3] = img[:,:,:3]\n",
        "    full1[:,:,3] = mat_small\n",
        "    \n",
        "    full2 = np.zeros((200,200,4))\n",
        "    full2[:,:,:3] = img2[:,:,:3]\n",
        "    full2[:,:,3] = mat2_small\n",
        "    return np.array([full1, full2])"
      ],
      "execution_count": 0,
      "outputs": []
    },
    {
      "metadata": {
        "id": "sH8L8uaknZqw",
        "colab_type": "code",
        "colab": {
          "autoexec": {
            "startup": false,
            "wait_interval": 0
          },
          "output_extras": [
            {
              "item_id": 1
            }
          ],
          "base_uri": "https://localhost:8080/",
          "height": 34
        },
        "outputId": "374180f4-5f09-40d7-e4b8-c0250cfc5117",
        "executionInfo": {
          "status": "ok",
          "timestamp": 1520875662648,
          "user_tz": -60,
          "elapsed": 1722,
          "user": {
            "displayName": "Norman Di Palo",
            "photoUrl": "//lh5.googleusercontent.com/-hwpkiYzSctg/AAAAAAAAAAI/AAAAAAAAAkg/I59DXttMdKw/s50-c-k-no/photo.jpg",
            "userId": "109405231849327541723"
          }
        }
      },
      "cell_type": "code",
      "source": [
        "create_wrong_rgbd(\"faceid_val/\")[0].shape"
      ],
      "execution_count": 17,
      "outputs": [
        {
          "output_type": "execute_result",
          "data": {
            "text/plain": [
              "(200, 200, 4)"
            ]
          },
          "metadata": {
            "tags": []
          },
          "execution_count": 17
        }
      ]
    },
    {
      "metadata": {
        "id": "ypQwUJXPX8IM",
        "colab_type": "text"
      },
      "cell_type": "markdown",
      "source": [
        "# Network crafting.\n",
        "Now we create the network. We first manually create the *constrative loss*, then we define the network architecture starting from the SqueezeNet architecture, and then using it as a siamese-network for embedding faces into a manifold. (the network for now is very big and could be heavily optimized, but I just wanted to show a proof-of-concept)"
      ]
    },
    {
      "metadata": {
        "id": "Hb8GAKvQocVw",
        "colab_type": "code",
        "colab": {
          "autoexec": {
            "startup": false,
            "wait_interval": 0
          }
        }
      },
      "cell_type": "code",
      "source": [
        "from keras.models import Sequential, Model\n",
        "from keras.layers import Dense, Activation, Flatten, Dropout, Lambda, ELU, concatenate, GlobalAveragePooling2D, Input, BatchNormalization, SeparableConv2D, Subtract, concatenate\n",
        "from keras.activations import relu, softmax\n",
        "from keras.layers.convolutional import Convolution2D\n",
        "from keras.layers.pooling import MaxPooling2D, AveragePooling2D\n",
        "from keras.optimizers import Adam, RMSprop, SGD\n",
        "from keras.regularizers import l2\n",
        "from keras import backend as K"
      ],
      "execution_count": 0,
      "outputs": []
    },
    {
      "metadata": {
        "id": "e37tdjTcooS-",
        "colab_type": "code",
        "colab": {
          "autoexec": {
            "startup": false,
            "wait_interval": 0
          }
        }
      },
      "cell_type": "code",
      "source": [
        "def euclidean_distance(inputs):\n",
        "    assert len(inputs) == 2, \\\n",
        "        'Euclidean distance needs 2 inputs, %d given' % len(inputs)\n",
        "    u, v = inputs\n",
        "    return K.sqrt(K.sum((K.square(u - v)), axis=1, keepdims=True))\n",
        "        \n",
        "\n",
        "def contrastive_loss(y_true,y_pred):\n",
        "    margin=1.\n",
        "    return K.mean((1. - y_true) * K.square(y_pred) + y_true * K.square(K.maximum(margin - y_pred, 0.)))\n",
        "   # return K.mean( K.square(y_pred) )"
      ],
      "execution_count": 0,
      "outputs": []
    },
    {
      "metadata": {
        "id": "KhcLtqEWo3Wh",
        "colab_type": "code",
        "colab": {
          "autoexec": {
            "startup": false,
            "wait_interval": 0
          }
        }
      },
      "cell_type": "code",
      "source": [
        "def fire(x, squeeze=16, expand=64):\n",
        "    x = Convolution2D(squeeze, (1,1), padding='valid')(x)\n",
        "    x = Activation('relu')(x)\n",
        "    \n",
        "    left = Convolution2D(expand, (1,1), padding='valid')(x)\n",
        "    left = Activation('relu')(left)\n",
        "    \n",
        "    right = Convolution2D(expand, (3,3), padding='same')(x)\n",
        "    right = Activation('relu')(right)\n",
        "    \n",
        "    x = concatenate([left, right], axis=3)\n",
        "    return x"
      ],
      "execution_count": 0,
      "outputs": []
    },
    {
      "metadata": {
        "id": "JKA3EcVyo_C8",
        "colab_type": "code",
        "colab": {
          "autoexec": {
            "startup": false,
            "wait_interval": 0
          },
          "output_extras": [
            {
              "item_id": 1
            }
          ],
          "base_uri": "https://localhost:8080/",
          "height": 2516
        },
        "outputId": "e84349d1-4269-499b-add4-a5038c7eee4b",
        "executionInfo": {
          "status": "ok",
          "timestamp": 1520875946309,
          "user_tz": -60,
          "elapsed": 1665,
          "user": {
            "displayName": "Norman Di Palo",
            "photoUrl": "//lh5.googleusercontent.com/-hwpkiYzSctg/AAAAAAAAAAI/AAAAAAAAAkg/I59DXttMdKw/s50-c-k-no/photo.jpg",
            "userId": "109405231849327541723"
          }
        }
      },
      "cell_type": "code",
      "source": [
        "\n",
        "img_input=Input(shape=(200,200,4))\n",
        "\n",
        "x = Convolution2D(64, (5, 5), strides=(2, 2), padding='valid')(img_input)\n",
        "x = BatchNormalization()(x)\n",
        "x = Activation('relu')(x)\n",
        "x = MaxPooling2D(pool_size=(3, 3), strides=(2, 2))(x)\n",
        "\n",
        "x = fire(x, squeeze=16, expand=16)\n",
        "\n",
        "x = fire(x, squeeze=16, expand=16)\n",
        "\n",
        "x = MaxPooling2D(pool_size=(3, 3), strides=(2, 2))(x)\n",
        "\n",
        "\n",
        "x = fire(x, squeeze=32, expand=32)\n",
        "\n",
        "x = fire(x, squeeze=32, expand=32)\n",
        "\n",
        "x = MaxPooling2D(pool_size=(3, 3), strides=(2, 2))(x)\n",
        "\n",
        "\n",
        "x = fire(x, squeeze=48, expand=48)\n",
        "\n",
        "x = fire(x, squeeze=48, expand=48)\n",
        "\n",
        "x = fire(x, squeeze=64, expand=64)\n",
        "\n",
        "x = fire(x, squeeze=64, expand=64)\n",
        "\n",
        "x = Dropout(0.2)(x)\n",
        "\n",
        "x = Convolution2D(512, (1, 1), padding='same')(x)\n",
        "out = Activation('relu')(x)\n",
        "\n",
        "\n",
        "modelsqueeze= Model(img_input, out)\n",
        "\n",
        "modelsqueeze.summary()\n",
        "\n",
        "\n"
      ],
      "execution_count": 26,
      "outputs": [
        {
          "output_type": "stream",
          "text": [
            "__________________________________________________________________________________________________\n",
            "Layer (type)                    Output Shape         Param #     Connected to                     \n",
            "==================================================================================================\n",
            "input_1 (InputLayer)            (None, 200, 200, 4)  0                                            \n",
            "__________________________________________________________________________________________________\n",
            "conv2d_1 (Conv2D)               (None, 98, 98, 64)   6464        input_1[0][0]                    \n",
            "__________________________________________________________________________________________________\n",
            "batch_normalization_1 (BatchNor (None, 98, 98, 64)   256         conv2d_1[0][0]                   \n",
            "__________________________________________________________________________________________________\n",
            "activation_1 (Activation)       (None, 98, 98, 64)   0           batch_normalization_1[0][0]      \n",
            "__________________________________________________________________________________________________\n",
            "max_pooling2d_1 (MaxPooling2D)  (None, 48, 48, 64)   0           activation_1[0][0]               \n",
            "__________________________________________________________________________________________________\n",
            "conv2d_2 (Conv2D)               (None, 48, 48, 16)   1040        max_pooling2d_1[0][0]            \n",
            "__________________________________________________________________________________________________\n",
            "activation_2 (Activation)       (None, 48, 48, 16)   0           conv2d_2[0][0]                   \n",
            "__________________________________________________________________________________________________\n",
            "conv2d_3 (Conv2D)               (None, 48, 48, 16)   272         activation_2[0][0]               \n",
            "__________________________________________________________________________________________________\n",
            "conv2d_4 (Conv2D)               (None, 48, 48, 16)   2320        activation_2[0][0]               \n",
            "__________________________________________________________________________________________________\n",
            "activation_3 (Activation)       (None, 48, 48, 16)   0           conv2d_3[0][0]                   \n",
            "__________________________________________________________________________________________________\n",
            "activation_4 (Activation)       (None, 48, 48, 16)   0           conv2d_4[0][0]                   \n",
            "__________________________________________________________________________________________________\n",
            "concatenate_1 (Concatenate)     (None, 48, 48, 32)   0           activation_3[0][0]               \n",
            "                                                                 activation_4[0][0]               \n",
            "__________________________________________________________________________________________________\n",
            "conv2d_5 (Conv2D)               (None, 48, 48, 16)   528         concatenate_1[0][0]              \n",
            "__________________________________________________________________________________________________\n",
            "activation_5 (Activation)       (None, 48, 48, 16)   0           conv2d_5[0][0]                   \n",
            "__________________________________________________________________________________________________\n",
            "conv2d_6 (Conv2D)               (None, 48, 48, 16)   272         activation_5[0][0]               \n",
            "__________________________________________________________________________________________________\n",
            "conv2d_7 (Conv2D)               (None, 48, 48, 16)   2320        activation_5[0][0]               \n",
            "__________________________________________________________________________________________________\n",
            "activation_6 (Activation)       (None, 48, 48, 16)   0           conv2d_6[0][0]                   \n",
            "__________________________________________________________________________________________________\n",
            "activation_7 (Activation)       (None, 48, 48, 16)   0           conv2d_7[0][0]                   \n",
            "__________________________________________________________________________________________________\n",
            "concatenate_2 (Concatenate)     (None, 48, 48, 32)   0           activation_6[0][0]               \n",
            "                                                                 activation_7[0][0]               \n",
            "__________________________________________________________________________________________________\n",
            "max_pooling2d_2 (MaxPooling2D)  (None, 23, 23, 32)   0           concatenate_2[0][0]              \n",
            "__________________________________________________________________________________________________\n",
            "conv2d_8 (Conv2D)               (None, 23, 23, 32)   1056        max_pooling2d_2[0][0]            \n",
            "__________________________________________________________________________________________________\n",
            "activation_8 (Activation)       (None, 23, 23, 32)   0           conv2d_8[0][0]                   \n",
            "__________________________________________________________________________________________________\n",
            "conv2d_9 (Conv2D)               (None, 23, 23, 32)   1056        activation_8[0][0]               \n",
            "__________________________________________________________________________________________________\n",
            "conv2d_10 (Conv2D)              (None, 23, 23, 32)   9248        activation_8[0][0]               \n",
            "__________________________________________________________________________________________________\n",
            "activation_9 (Activation)       (None, 23, 23, 32)   0           conv2d_9[0][0]                   \n",
            "__________________________________________________________________________________________________\n",
            "activation_10 (Activation)      (None, 23, 23, 32)   0           conv2d_10[0][0]                  \n",
            "__________________________________________________________________________________________________\n",
            "concatenate_3 (Concatenate)     (None, 23, 23, 64)   0           activation_9[0][0]               \n",
            "                                                                 activation_10[0][0]              \n",
            "__________________________________________________________________________________________________\n",
            "conv2d_11 (Conv2D)              (None, 23, 23, 32)   2080        concatenate_3[0][0]              \n",
            "__________________________________________________________________________________________________\n",
            "activation_11 (Activation)      (None, 23, 23, 32)   0           conv2d_11[0][0]                  \n",
            "__________________________________________________________________________________________________\n",
            "conv2d_12 (Conv2D)              (None, 23, 23, 32)   1056        activation_11[0][0]              \n",
            "__________________________________________________________________________________________________\n",
            "conv2d_13 (Conv2D)              (None, 23, 23, 32)   9248        activation_11[0][0]              \n",
            "__________________________________________________________________________________________________\n",
            "activation_12 (Activation)      (None, 23, 23, 32)   0           conv2d_12[0][0]                  \n",
            "__________________________________________________________________________________________________\n",
            "activation_13 (Activation)      (None, 23, 23, 32)   0           conv2d_13[0][0]                  \n",
            "__________________________________________________________________________________________________\n",
            "concatenate_4 (Concatenate)     (None, 23, 23, 64)   0           activation_12[0][0]              \n",
            "                                                                 activation_13[0][0]              \n",
            "__________________________________________________________________________________________________\n",
            "max_pooling2d_3 (MaxPooling2D)  (None, 11, 11, 64)   0           concatenate_4[0][0]              \n",
            "__________________________________________________________________________________________________\n",
            "conv2d_14 (Conv2D)              (None, 11, 11, 48)   3120        max_pooling2d_3[0][0]            \n",
            "__________________________________________________________________________________________________\n",
            "activation_14 (Activation)      (None, 11, 11, 48)   0           conv2d_14[0][0]                  \n",
            "__________________________________________________________________________________________________\n",
            "conv2d_15 (Conv2D)              (None, 11, 11, 48)   2352        activation_14[0][0]              \n",
            "__________________________________________________________________________________________________\n",
            "conv2d_16 (Conv2D)              (None, 11, 11, 48)   20784       activation_14[0][0]              \n",
            "__________________________________________________________________________________________________\n",
            "activation_15 (Activation)      (None, 11, 11, 48)   0           conv2d_15[0][0]                  \n",
            "__________________________________________________________________________________________________\n",
            "activation_16 (Activation)      (None, 11, 11, 48)   0           conv2d_16[0][0]                  \n",
            "__________________________________________________________________________________________________\n",
            "concatenate_5 (Concatenate)     (None, 11, 11, 96)   0           activation_15[0][0]              \n",
            "                                                                 activation_16[0][0]              \n",
            "__________________________________________________________________________________________________\n",
            "conv2d_17 (Conv2D)              (None, 11, 11, 48)   4656        concatenate_5[0][0]              \n",
            "__________________________________________________________________________________________________\n",
            "activation_17 (Activation)      (None, 11, 11, 48)   0           conv2d_17[0][0]                  \n",
            "__________________________________________________________________________________________________\n",
            "conv2d_18 (Conv2D)              (None, 11, 11, 48)   2352        activation_17[0][0]              \n",
            "__________________________________________________________________________________________________\n",
            "conv2d_19 (Conv2D)              (None, 11, 11, 48)   20784       activation_17[0][0]              \n",
            "__________________________________________________________________________________________________\n",
            "activation_18 (Activation)      (None, 11, 11, 48)   0           conv2d_18[0][0]                  \n",
            "__________________________________________________________________________________________________\n",
            "activation_19 (Activation)      (None, 11, 11, 48)   0           conv2d_19[0][0]                  \n",
            "__________________________________________________________________________________________________\n",
            "concatenate_6 (Concatenate)     (None, 11, 11, 96)   0           activation_18[0][0]              \n",
            "                                                                 activation_19[0][0]              \n",
            "__________________________________________________________________________________________________\n",
            "conv2d_20 (Conv2D)              (None, 11, 11, 64)   6208        concatenate_6[0][0]              \n",
            "__________________________________________________________________________________________________\n",
            "activation_20 (Activation)      (None, 11, 11, 64)   0           conv2d_20[0][0]                  \n",
            "__________________________________________________________________________________________________\n",
            "conv2d_21 (Conv2D)              (None, 11, 11, 64)   4160        activation_20[0][0]              \n",
            "__________________________________________________________________________________________________\n",
            "conv2d_22 (Conv2D)              (None, 11, 11, 64)   36928       activation_20[0][0]              \n",
            "__________________________________________________________________________________________________\n",
            "activation_21 (Activation)      (None, 11, 11, 64)   0           conv2d_21[0][0]                  \n",
            "__________________________________________________________________________________________________\n",
            "activation_22 (Activation)      (None, 11, 11, 64)   0           conv2d_22[0][0]                  \n",
            "__________________________________________________________________________________________________\n",
            "concatenate_7 (Concatenate)     (None, 11, 11, 128)  0           activation_21[0][0]              \n",
            "                                                                 activation_22[0][0]              \n",
            "__________________________________________________________________________________________________\n",
            "conv2d_23 (Conv2D)              (None, 11, 11, 64)   8256        concatenate_7[0][0]              \n",
            "__________________________________________________________________________________________________\n",
            "activation_23 (Activation)      (None, 11, 11, 64)   0           conv2d_23[0][0]                  \n",
            "__________________________________________________________________________________________________\n",
            "conv2d_24 (Conv2D)              (None, 11, 11, 64)   4160        activation_23[0][0]              \n",
            "__________________________________________________________________________________________________\n",
            "conv2d_25 (Conv2D)              (None, 11, 11, 64)   36928       activation_23[0][0]              \n",
            "__________________________________________________________________________________________________\n",
            "activation_24 (Activation)      (None, 11, 11, 64)   0           conv2d_24[0][0]                  \n",
            "__________________________________________________________________________________________________\n",
            "activation_25 (Activation)      (None, 11, 11, 64)   0           conv2d_25[0][0]                  \n",
            "__________________________________________________________________________________________________\n",
            "concatenate_8 (Concatenate)     (None, 11, 11, 128)  0           activation_24[0][0]              \n",
            "                                                                 activation_25[0][0]              \n",
            "__________________________________________________________________________________________________\n",
            "dropout_1 (Dropout)             (None, 11, 11, 128)  0           concatenate_8[0][0]              \n",
            "__________________________________________________________________________________________________\n",
            "conv2d_26 (Conv2D)              (None, 11, 11, 512)  66048       dropout_1[0][0]                  \n",
            "__________________________________________________________________________________________________\n",
            "activation_26 (Activation)      (None, 11, 11, 512)  0           conv2d_26[0][0]                  \n",
            "==================================================================================================\n",
            "Total params: 253,952\n",
            "Trainable params: 253,824\n",
            "Non-trainable params: 128\n",
            "__________________________________________________________________________________________________\n"
          ],
          "name": "stdout"
        }
      ]
    },
    {
      "metadata": {
        "id": "XSy2AIxBpTG3",
        "colab_type": "code",
        "colab": {
          "autoexec": {
            "startup": false,
            "wait_interval": 0
          },
          "output_extras": [
            {
              "item_id": 1
            }
          ],
          "base_uri": "https://localhost:8080/",
          "height": 663
        },
        "outputId": "c7891a94-7ed3-4cd0-8054-fc7f795ff52b",
        "executionInfo": {
          "status": "ok",
          "timestamp": 1520875947670,
          "user_tz": -60,
          "elapsed": 1202,
          "user": {
            "displayName": "Norman Di Palo",
            "photoUrl": "//lh5.googleusercontent.com/-hwpkiYzSctg/AAAAAAAAAAI/AAAAAAAAAkg/I59DXttMdKw/s50-c-k-no/photo.jpg",
            "userId": "109405231849327541723"
          }
        }
      },
      "cell_type": "code",
      "source": [
        "im_in = Input(shape=(200,200,4))\n",
        "#wrong = Input(shape=(200,200,3))\n",
        "\n",
        "x1 = modelsqueeze(im_in)\n",
        "#x = Convolution2D(64, (5, 5), padding='valid', strides =(2,2))(x)\n",
        "\n",
        "#x1 = MaxPooling2D(pool_size=(3, 3), strides=(2, 2))(x1)\n",
        "\n",
        "\"\"\"\n",
        "x1 = Convolution2D(256, (3,3), padding='valid', activation=\"relu\")(x1)\n",
        "x1 = Dropout(0.4)(x1)\n",
        "\n",
        "x1 = MaxPooling2D(pool_size=(3, 3), strides=(1, 1))(x1)\n",
        "\n",
        "x1 = Convolution2D(256, (3,3), padding='valid', activation=\"relu\")(x1)\n",
        "x1 = BatchNormalization()(x1)\n",
        "x1 = Dropout(0.4)(x1)\n",
        "\n",
        "x1 = Convolution2D(64, (1,1), padding='same', activation=\"relu\")(x1)\n",
        "x1 = BatchNormalization()(x1)\n",
        "x1 = Dropout(0.4)(x1)\n",
        "\"\"\"\n",
        "\n",
        "\n",
        "\n",
        "x1 = Flatten()(x1)\n",
        "\n",
        "x1 = Dense(512, activation=\"relu\")(x1)\n",
        "x1 = Dropout(0.2)(x1)\n",
        "#x1 = BatchNormalization()(x1)\n",
        "feat_x = Dense(128, activation=\"linear\")(x1)\n",
        "feat_x = Lambda(lambda  x: K.l2_normalize(x,axis=1))(feat_x)\n",
        "\n",
        "\n",
        "model_top = Model(inputs = [im_in], outputs = feat_x)\n",
        "\n",
        "model_top.summary()\n",
        "\n",
        "im_in1 = Input(shape=(200,200,4))\n",
        "im_in2 = Input(shape=(200,200,4))\n",
        "\n",
        "feat_x1 = model_top(im_in1)\n",
        "feat_x2 = model_top(im_in2)\n",
        "\n",
        "\n",
        "lambda_merge = Lambda(euclidean_distance)([feat_x1, feat_x2])\n",
        "\n",
        "\n",
        "model_final = Model(inputs = [im_in1, im_in2], outputs = lambda_merge)\n",
        "\n",
        "model_final.summary()\n",
        "\n",
        "adam = Adam(lr=0.001)\n",
        "\n",
        "sgd = SGD(lr=0.001, momentum=0.9)\n",
        "\n",
        "model_final.compile(optimizer=adam, loss=contrastive_loss)"
      ],
      "execution_count": 27,
      "outputs": [
        {
          "output_type": "stream",
          "text": [
            "_________________________________________________________________\n",
            "Layer (type)                 Output Shape              Param #   \n",
            "=================================================================\n",
            "input_2 (InputLayer)         (None, 200, 200, 4)       0         \n",
            "_________________________________________________________________\n",
            "model_1 (Model)              (None, 11, 11, 512)       253952    \n",
            "_________________________________________________________________\n",
            "flatten_1 (Flatten)          (None, 61952)             0         \n",
            "_________________________________________________________________\n",
            "dense_1 (Dense)              (None, 512)               31719936  \n",
            "_________________________________________________________________\n",
            "dropout_2 (Dropout)          (None, 512)               0         \n",
            "_________________________________________________________________\n",
            "dense_2 (Dense)              (None, 128)               65664     \n",
            "_________________________________________________________________\n",
            "lambda_1 (Lambda)            (None, 128)               0         \n",
            "=================================================================\n",
            "Total params: 32,039,552\n",
            "Trainable params: 32,039,424\n",
            "Non-trainable params: 128\n",
            "_________________________________________________________________\n",
            "__________________________________________________________________________________________________\n",
            "Layer (type)                    Output Shape         Param #     Connected to                     \n",
            "==================================================================================================\n",
            "input_3 (InputLayer)            (None, 200, 200, 4)  0                                            \n",
            "__________________________________________________________________________________________________\n",
            "input_4 (InputLayer)            (None, 200, 200, 4)  0                                            \n",
            "__________________________________________________________________________________________________\n",
            "model_2 (Model)                 (None, 128)          32039552    input_3[0][0]                    \n",
            "                                                                 input_4[0][0]                    \n",
            "__________________________________________________________________________________________________\n",
            "lambda_2 (Lambda)               (None, 1)            0           model_2[1][0]                    \n",
            "                                                                 model_2[2][0]                    \n",
            "==================================================================================================\n",
            "Total params: 32,039,552\n",
            "Trainable params: 32,039,424\n",
            "Non-trainable params: 128\n",
            "__________________________________________________________________________________________________\n"
          ],
          "name": "stdout"
        }
      ]
    },
    {
      "metadata": {
        "id": "o37-2YMQYU3m",
        "colab_type": "text"
      },
      "cell_type": "markdown",
      "source": [
        "# Learning phase.\n",
        "We write the generators that will give our model batches of data to train on, then we run the training."
      ]
    },
    {
      "metadata": {
        "id": "PYSFqo-ppTnJ",
        "colab_type": "code",
        "colab": {
          "autoexec": {
            "startup": false,
            "wait_interval": 0
          }
        }
      },
      "cell_type": "code",
      "source": [
        "def generator(batch_size):\n",
        "  \n",
        "  while 1:\n",
        "    X=[]\n",
        "    y=[]\n",
        "    switch=True\n",
        "    for _ in range(batch_size):\n",
        "   #   switch += 1\n",
        "      if switch:\n",
        "     #   print(\"correct\")\n",
        "        X.append(create_couple_rgbd(\"faceid_train/\").reshape((2,200,200,4)))\n",
        "        y.append(np.array([0.]))\n",
        "      else:\n",
        "     #   print(\"wrong\")\n",
        "        X.append(create_wrong_rgbd(\"faceid_train/\").reshape((2,200,200,4)))\n",
        "        y.append(np.array([1.]))\n",
        "      switch=not switch\n",
        "    X = np.asarray(X)\n",
        "    y = np.asarray(y)\n",
        "    XX1=X[0,:]\n",
        "    XX2=X[1,:]\n",
        "    yield [X[:,0],X[:,1]],y"
      ],
      "execution_count": 0,
      "outputs": []
    },
    {
      "metadata": {
        "id": "Zs8Ktvcbjq31",
        "colab_type": "code",
        "colab": {
          "autoexec": {
            "startup": false,
            "wait_interval": 0
          }
        }
      },
      "cell_type": "code",
      "source": [
        "def val_generator(batch_size):\n",
        "  \n",
        "  while 1:\n",
        "    X=[]\n",
        "    y=[]\n",
        "    switch=True\n",
        "    for _ in range(batch_size):\n",
        "      if switch:\n",
        "        X.append(create_couple_rgbd(\"faceid_val/\").reshape((2,200,200,4)))\n",
        "        y.append(np.array([0.]))\n",
        "      else:\n",
        "        X.append(create_wrong_rgbd(\"faceid_val/\").reshape((2,200,200,4)))\n",
        "        y.append(np.array([1.]))\n",
        "      switch=not switch\n",
        "    X = np.asarray(X)\n",
        "    y = np.asarray(y)\n",
        "    XX1=X[0,:]\n",
        "    XX2=X[1,:]\n",
        "    yield [X[:,0],X[:,1]],y"
      ],
      "execution_count": 0,
      "outputs": []
    },
    {
      "metadata": {
        "id": "x_tsUiyAslYj",
        "colab_type": "code",
        "colab": {
          "autoexec": {
            "startup": false,
            "wait_interval": 0
          }
        }
      },
      "cell_type": "code",
      "source": [
        "gen = generator(16)\n",
        "val_gen = val_generator(4)"
      ],
      "execution_count": 0,
      "outputs": []
    },
    {
      "metadata": {
        "id": "UcV1AqgQs0tr",
        "colab_type": "code",
        "colab": {
          "autoexec": {
            "startup": false,
            "wait_interval": 0
          },
          "output_extras": [
            {},
            {},
            {},
            {},
            {},
            {},
            {},
            {}
          ],
          "base_uri": "https://localhost:8080/",
          "height": 949
        },
        "outputId": "34152b5d-8c8d-49ae-be55-444ea20a88d4",
        "executionInfo": {
          "status": "error",
          "timestamp": 1520706651566,
          "user_tz": -60,
          "elapsed": 3837783,
          "user": {
            "displayName": "Norman Di Palo",
            "photoUrl": "//lh5.googleusercontent.com/-hwpkiYzSctg/AAAAAAAAAAI/AAAAAAAAAkg/I59DXttMdKw/s50-c-k-no/photo.jpg",
            "userId": "109405231849327541723"
          }
        }
      },
      "cell_type": "code",
      "source": [
        "outputs = model_final.fit_generator(gen, steps_per_epoch=30, epochs=50, validation_data = val_gen, validation_steps=20)"
      ],
      "execution_count": 0,
      "outputs": [
        {
          "output_type": "stream",
          "text": [
            "Epoch 1/50\n",
            "30/30 [==============================] - 515s 17s/step - loss: 0.0994 - val_loss: 0.1148\n",
            "Epoch 2/50\n",
            "30/30 [==============================] - 425s 14s/step - loss: 0.0842 - val_loss: 0.0719\n",
            "Epoch 3/50\n",
            " 4/30 [===>..........................] - ETA: 11s - loss: 0.0794"
          ],
          "name": "stdout"
        },
        {
          "output_type": "stream",
          "text": [
            "/usr/local/lib/python3.6/dist-packages/keras/callbacks.py:120: UserWarning: Method on_batch_end() is slow compared to the batch update (0.226792). Check your callbacks.\n",
            "  % delta_t_median)\n"
          ],
          "name": "stderr"
        },
        {
          "output_type": "stream",
          "text": [
            "\b\b\b\b\b\b\b\b\b\b\b\b\b\b\b\b\b\b\b\b\b\b\b\b\b\b\b\b\b\b\b\b\b\b\b\b\b\b\b\b\b\b\b\b\b\b\b\b\b\b\b\b\b\b\b\b\b\b\b\b\b\b\b\b\r 5/30 [====>.........................] - ETA: 10s - loss: 0.0912"
          ],
          "name": "stdout"
        },
        {
          "output_type": "stream",
          "text": [
            "/usr/local/lib/python3.6/dist-packages/keras/callbacks.py:120: UserWarning: Method on_batch_end() is slow compared to the batch update (0.233295). Check your callbacks.\n",
            "  % delta_t_median)\n"
          ],
          "name": "stderr"
        },
        {
          "output_type": "stream",
          "text": [
            "30/30 [==============================] - 427s 14s/step - loss: 0.0841 - val_loss: 0.1185\n",
            "Epoch 4/50\n",
            "30/30 [==============================] - 438s 15s/step - loss: 0.0748 - val_loss: 0.0817\n",
            "Epoch 5/50\n",
            "30/30 [==============================] - 444s 15s/step - loss: 0.0752 - val_loss: 0.1171\n",
            "Epoch 6/50\n",
            "30/30 [==============================] - 439s 15s/step - loss: 0.0704 - val_loss: 0.0689\n",
            "Epoch 7/50\n",
            "30/30 [==============================] - 434s 14s/step - loss: 0.0776 - val_loss: 0.0992\n",
            "Epoch 8/50\n",
            "30/30 [==============================] - 438s 15s/step - loss: 0.0800 - val_loss: 0.0904\n",
            "Epoch 9/50\n",
            " 5/30 [====>.........................] - ETA: 11s - loss: 0.0760"
          ],
          "name": "stdout"
        },
        {
          "output_type": "stream",
          "text": [
            "/usr/local/lib/python3.6/dist-packages/keras/callbacks.py:120: UserWarning: Method on_batch_end() is slow compared to the batch update (0.245728). Check your callbacks.\n",
            "  % delta_t_median)\n"
          ],
          "name": "stderr"
        },
        {
          "output_type": "stream",
          "text": [
            "26/30 [=========================>....] - ETA: 40s - loss: 0.0728"
          ],
          "name": "stdout"
        },
        {
          "output_type": "error",
          "ename": "KeyboardInterrupt",
          "evalue": "ignored",
          "traceback": [
            "\u001b[0;31m---------------------------------------------------------------------------\u001b[0m",
            "\u001b[0;31mKeyboardInterrupt\u001b[0m                         Traceback (most recent call last)",
            "\u001b[0;32m<ipython-input-63-7119c2f8ee50>\u001b[0m in \u001b[0;36m<module>\u001b[0;34m()\u001b[0m\n\u001b[0;32m----> 1\u001b[0;31m \u001b[0moutputs\u001b[0m \u001b[0;34m=\u001b[0m \u001b[0mmodel_final\u001b[0m\u001b[0;34m.\u001b[0m\u001b[0mfit_generator\u001b[0m\u001b[0;34m(\u001b[0m\u001b[0mgen\u001b[0m\u001b[0;34m,\u001b[0m \u001b[0msteps_per_epoch\u001b[0m\u001b[0;34m=\u001b[0m\u001b[0;36m30\u001b[0m\u001b[0;34m,\u001b[0m \u001b[0mepochs\u001b[0m\u001b[0;34m=\u001b[0m\u001b[0;36m50\u001b[0m\u001b[0;34m,\u001b[0m \u001b[0mvalidation_data\u001b[0m \u001b[0;34m=\u001b[0m \u001b[0mval_gen\u001b[0m\u001b[0;34m,\u001b[0m \u001b[0mvalidation_steps\u001b[0m\u001b[0;34m=\u001b[0m\u001b[0;36m20\u001b[0m\u001b[0;34m)\u001b[0m\u001b[0;34m\u001b[0m\u001b[0m\n\u001b[0m",
            "\u001b[0;32m/usr/local/lib/python3.6/dist-packages/keras/legacy/interfaces.py\u001b[0m in \u001b[0;36mwrapper\u001b[0;34m(*args, **kwargs)\u001b[0m\n\u001b[1;32m     89\u001b[0m                 warnings.warn('Update your `' + object_name +\n\u001b[1;32m     90\u001b[0m                               '` call to the Keras 2 API: ' + signature, stacklevel=2)\n\u001b[0;32m---> 91\u001b[0;31m             \u001b[0;32mreturn\u001b[0m \u001b[0mfunc\u001b[0m\u001b[0;34m(\u001b[0m\u001b[0;34m*\u001b[0m\u001b[0margs\u001b[0m\u001b[0;34m,\u001b[0m \u001b[0;34m**\u001b[0m\u001b[0mkwargs\u001b[0m\u001b[0;34m)\u001b[0m\u001b[0;34m\u001b[0m\u001b[0m\n\u001b[0m\u001b[1;32m     92\u001b[0m         \u001b[0mwrapper\u001b[0m\u001b[0;34m.\u001b[0m\u001b[0m_original_function\u001b[0m \u001b[0;34m=\u001b[0m \u001b[0mfunc\u001b[0m\u001b[0;34m\u001b[0m\u001b[0m\n\u001b[1;32m     93\u001b[0m         \u001b[0;32mreturn\u001b[0m \u001b[0mwrapper\u001b[0m\u001b[0;34m\u001b[0m\u001b[0m\n",
            "\u001b[0;32m/usr/local/lib/python3.6/dist-packages/keras/engine/training.py\u001b[0m in \u001b[0;36mfit_generator\u001b[0;34m(self, generator, steps_per_epoch, epochs, verbose, callbacks, validation_data, validation_steps, class_weight, max_queue_size, workers, use_multiprocessing, shuffle, initial_epoch)\u001b[0m\n\u001b[1;32m   2190\u001b[0m                 \u001b[0mbatch_index\u001b[0m \u001b[0;34m=\u001b[0m \u001b[0;36m0\u001b[0m\u001b[0;34m\u001b[0m\u001b[0m\n\u001b[1;32m   2191\u001b[0m                 \u001b[0;32mwhile\u001b[0m \u001b[0msteps_done\u001b[0m \u001b[0;34m<\u001b[0m \u001b[0msteps_per_epoch\u001b[0m\u001b[0;34m:\u001b[0m\u001b[0;34m\u001b[0m\u001b[0m\n\u001b[0;32m-> 2192\u001b[0;31m                     \u001b[0mgenerator_output\u001b[0m \u001b[0;34m=\u001b[0m \u001b[0mnext\u001b[0m\u001b[0;34m(\u001b[0m\u001b[0moutput_generator\u001b[0m\u001b[0;34m)\u001b[0m\u001b[0;34m\u001b[0m\u001b[0m\n\u001b[0m\u001b[1;32m   2193\u001b[0m \u001b[0;34m\u001b[0m\u001b[0m\n\u001b[1;32m   2194\u001b[0m                     \u001b[0;32mif\u001b[0m \u001b[0;32mnot\u001b[0m \u001b[0mhasattr\u001b[0m\u001b[0;34m(\u001b[0m\u001b[0mgenerator_output\u001b[0m\u001b[0;34m,\u001b[0m \u001b[0;34m'__len__'\u001b[0m\u001b[0;34m)\u001b[0m\u001b[0;34m:\u001b[0m\u001b[0;34m\u001b[0m\u001b[0m\n",
            "\u001b[0;32m/usr/local/lib/python3.6/dist-packages/keras/utils/data_utils.py\u001b[0m in \u001b[0;36mget\u001b[0;34m(self)\u001b[0m\n\u001b[1;32m    785\u001b[0m                     \u001b[0;32mraise\u001b[0m \u001b[0mStopIteration\u001b[0m\u001b[0;34m(\u001b[0m\u001b[0;34m)\u001b[0m\u001b[0;34m\u001b[0m\u001b[0m\n\u001b[1;32m    786\u001b[0m                 \u001b[0;32melse\u001b[0m\u001b[0;34m:\u001b[0m\u001b[0;34m\u001b[0m\u001b[0m\n\u001b[0;32m--> 787\u001b[0;31m                     \u001b[0mtime\u001b[0m\u001b[0;34m.\u001b[0m\u001b[0msleep\u001b[0m\u001b[0;34m(\u001b[0m\u001b[0mself\u001b[0m\u001b[0;34m.\u001b[0m\u001b[0mwait_time\u001b[0m\u001b[0;34m)\u001b[0m\u001b[0;34m\u001b[0m\u001b[0m\n\u001b[0m\u001b[1;32m    788\u001b[0m \u001b[0;34m\u001b[0m\u001b[0m\n\u001b[1;32m    789\u001b[0m         \u001b[0;31m# Make sure to rethrow the first exception in the queue, if any\u001b[0m\u001b[0;34m\u001b[0m\u001b[0;34m\u001b[0m\u001b[0m\n",
            "\u001b[0;31mKeyboardInterrupt\u001b[0m: "
          ]
        }
      ]
    },
    {
      "metadata": {
        "id": "e0ANrU9zYdwq",
        "colab_type": "text"
      },
      "cell_type": "markdown",
      "source": [
        "# Some model tests.\n"
      ]
    },
    {
      "metadata": {
        "id": "mBv4yjz958KR",
        "colab_type": "code",
        "colab": {
          "autoexec": {
            "startup": false,
            "wait_interval": 0
          },
          "output_extras": [
            {}
          ],
          "base_uri": "https://localhost:8080/",
          "height": 181
        },
        "outputId": "97fc3075-7639-47dc-a7fe-c68f2e887123",
        "executionInfo": {
          "status": "error",
          "timestamp": 1520676724725,
          "user_tz": -60,
          "elapsed": 652,
          "user": {
            "displayName": "Norman Di Palo",
            "photoUrl": "//lh5.googleusercontent.com/-hwpkiYzSctg/AAAAAAAAAAI/AAAAAAAAAkg/I59DXttMdKw/s50-c-k-no/photo.jpg",
            "userId": "109405231849327541723"
          }
        }
      },
      "cell_type": "code",
      "source": [
        "cop = create_couple(\"faceid_val/\")\n",
        "model_final.evaluate([cop[0].reshape((1,200,200,1)), cop[1].reshape((1,200,200,1))], np.array([0.]))"
      ],
      "execution_count": 0,
      "outputs": [
        {
          "output_type": "error",
          "ename": "NameError",
          "evalue": "ignored",
          "traceback": [
            "\u001b[0;31m---------------------------------------------------------------------------\u001b[0m",
            "\u001b[0;31mNameError\u001b[0m                                 Traceback (most recent call last)",
            "\u001b[0;32m<ipython-input-1-467176cf82e4>\u001b[0m in \u001b[0;36m<module>\u001b[0;34m()\u001b[0m\n\u001b[0;32m----> 1\u001b[0;31m \u001b[0mcop\u001b[0m \u001b[0;34m=\u001b[0m \u001b[0mcreate_couple\u001b[0m\u001b[0;34m(\u001b[0m\u001b[0;34m\"faceid_val/\"\u001b[0m\u001b[0;34m)\u001b[0m\u001b[0;34m\u001b[0m\u001b[0m\n\u001b[0m\u001b[1;32m      2\u001b[0m \u001b[0mmodel_final\u001b[0m\u001b[0;34m.\u001b[0m\u001b[0mevaluate\u001b[0m\u001b[0;34m(\u001b[0m\u001b[0;34m[\u001b[0m\u001b[0mcop\u001b[0m\u001b[0;34m[\u001b[0m\u001b[0;36m0\u001b[0m\u001b[0;34m]\u001b[0m\u001b[0;34m.\u001b[0m\u001b[0mreshape\u001b[0m\u001b[0;34m(\u001b[0m\u001b[0;34m(\u001b[0m\u001b[0;36m1\u001b[0m\u001b[0;34m,\u001b[0m\u001b[0;36m200\u001b[0m\u001b[0;34m,\u001b[0m\u001b[0;36m200\u001b[0m\u001b[0;34m,\u001b[0m\u001b[0;36m1\u001b[0m\u001b[0;34m)\u001b[0m\u001b[0;34m)\u001b[0m\u001b[0;34m,\u001b[0m \u001b[0mcop\u001b[0m\u001b[0;34m[\u001b[0m\u001b[0;36m1\u001b[0m\u001b[0;34m]\u001b[0m\u001b[0;34m.\u001b[0m\u001b[0mreshape\u001b[0m\u001b[0;34m(\u001b[0m\u001b[0;34m(\u001b[0m\u001b[0;36m1\u001b[0m\u001b[0;34m,\u001b[0m\u001b[0;36m200\u001b[0m\u001b[0;34m,\u001b[0m\u001b[0;36m200\u001b[0m\u001b[0;34m,\u001b[0m\u001b[0;36m1\u001b[0m\u001b[0;34m)\u001b[0m\u001b[0;34m)\u001b[0m\u001b[0;34m]\u001b[0m\u001b[0;34m,\u001b[0m \u001b[0mnp\u001b[0m\u001b[0;34m.\u001b[0m\u001b[0marray\u001b[0m\u001b[0;34m(\u001b[0m\u001b[0;34m[\u001b[0m\u001b[0;36m0.\u001b[0m\u001b[0;34m]\u001b[0m\u001b[0;34m)\u001b[0m\u001b[0;34m)\u001b[0m\u001b[0;34m\u001b[0m\u001b[0m\n",
            "\u001b[0;31mNameError\u001b[0m: name 'create_couple' is not defined"
          ]
        }
      ]
    },
    {
      "metadata": {
        "id": "OQyEXogj7OVI",
        "colab_type": "code",
        "colab": {
          "autoexec": {
            "startup": false,
            "wait_interval": 0
          },
          "output_extras": [
            {}
          ],
          "base_uri": "https://localhost:8080/",
          "height": 34
        },
        "outputId": "b27a2c8b-38a3-4ed5-c1d9-dbf6ad386c12",
        "executionInfo": {
          "status": "ok",
          "timestamp": 1520706715007,
          "user_tz": -60,
          "elapsed": 1404,
          "user": {
            "displayName": "Norman Di Palo",
            "photoUrl": "//lh5.googleusercontent.com/-hwpkiYzSctg/AAAAAAAAAAI/AAAAAAAAAkg/I59DXttMdKw/s50-c-k-no/photo.jpg",
            "userId": "109405231849327541723"
          }
        }
      },
      "cell_type": "code",
      "source": [
        "cop = create_wrong_rgbd(\"faceid_val/\")\n",
        "model_final.predict([cop[0].reshape((1,200,200,4)), cop[1].reshape((1,200,200,4))])"
      ],
      "execution_count": 0,
      "outputs": [
        {
          "output_type": "execute_result",
          "data": {
            "text/plain": [
              "array([[1.4120153]], dtype=float32)"
            ]
          },
          "metadata": {
            "tags": []
          },
          "execution_count": 88
        }
      ]
    },
    {
      "metadata": {
        "id": "ZHsdoBlPYhYg",
        "colab_type": "text"
      },
      "cell_type": "markdown",
      "source": [
        "# Saving and loading the model.\n",
        "The next cells show both how to save the model weights and upload them into your Drive, and then how to retrieve those weights from the Drive to load a pre-trained model."
      ]
    },
    {
      "metadata": {
        "id": "vZwXpSCQpLwd",
        "colab_type": "code",
        "colab": {
          "autoexec": {
            "startup": false,
            "wait_interval": 0
          }
        }
      },
      "cell_type": "code",
      "source": [
        "model_final.save(\"faceid_big_rgbd_2.h5\")"
      ],
      "execution_count": 0,
      "outputs": []
    },
    {
      "metadata": {
        "id": "R44vdVVdyiYm",
        "colab_type": "code",
        "colab": {
          "autoexec": {
            "startup": false,
            "wait_interval": 0
          }
        }
      },
      "cell_type": "code",
      "source": [
        "from google.colab import files"
      ],
      "execution_count": 0,
      "outputs": []
    },
    {
      "metadata": {
        "id": "53xZa7JXykeQ",
        "colab_type": "code",
        "colab": {
          "autoexec": {
            "startup": false,
            "wait_interval": 0
          },
          "output_extras": [
            {}
          ],
          "base_uri": "https://localhost:8080/",
          "height": 34
        },
        "outputId": "fffab0ce-29f7-4cb0-8545-0f10b7f7aadb",
        "executionInfo": {
          "status": "ok",
          "timestamp": 1520706780161,
          "user_tz": -60,
          "elapsed": 38935,
          "user": {
            "displayName": "Norman Di Palo",
            "photoUrl": "//lh5.googleusercontent.com/-hwpkiYzSctg/AAAAAAAAAAI/AAAAAAAAAkg/I59DXttMdKw/s50-c-k-no/photo.jpg",
            "userId": "109405231849327541723"
          }
        }
      },
      "cell_type": "code",
      "source": [
        "# Install the PyDrive wrapper & import libraries.\n",
        "# This only needs to be done once in a notebook.\n",
        "!pip install -U -q PyDrive\n",
        "from pydrive.auth import GoogleAuth\n",
        "from pydrive.drive import GoogleDrive\n",
        "from google.colab import auth\n",
        "from oauth2client.client import GoogleCredentials\n",
        "\n",
        "# Authenticate and create the PyDrive client.\n",
        "# This only needs to be done once in a notebook.\n",
        "auth.authenticate_user()\n",
        "gauth = GoogleAuth()\n",
        "gauth.credentials = GoogleCredentials.get_application_default()\n",
        "drive = GoogleDrive(gauth)\n",
        "\n",
        "# Create & upload a file.\n",
        "uploaded = drive.CreateFile({'title': 'faceid_big_rgbd.h5'})\n",
        "uploaded.SetContentFile('faceid_big_rgbd.h5')\n",
        "uploaded.Upload()\n",
        "print('Uploaded file with ID {}'.format(uploaded.get('id')))"
      ],
      "execution_count": 0,
      "outputs": [
        {
          "output_type": "stream",
          "text": [
            "Uploaded file with ID 17Lo_ZxYcKO751iYs4XRyIvVXME8Lyc75\n"
          ],
          "name": "stdout"
        }
      ]
    },
    {
      "metadata": {
        "id": "-soDN2VJs5T_",
        "colab_type": "code",
        "colab": {
          "autoexec": {
            "startup": false,
            "wait_interval": 0
          }
        }
      },
      "cell_type": "code",
      "source": [
        "# Install the PyDrive wrapper & import libraries.\n",
        "# This only needs to be done once per notebook.\n",
        "!pip install -U -q PyDrive\n",
        "from pydrive.auth import GoogleAuth\n",
        "from pydrive.drive import GoogleDrive\n",
        "from google.colab import auth\n",
        "from oauth2client.client import GoogleCredentials\n",
        "\n",
        "# Authenticate and create the PyDrive client.\n",
        "# This only needs to be done once per notebook.\n",
        "auth.authenticate_user()\n",
        "gauth = GoogleAuth()\n",
        "gauth.credentials = GoogleCredentials.get_application_default()\n",
        "drive = GoogleDrive(gauth)\n",
        "\n",
        "# Download a file based on its file ID.\n",
        "#\n",
        "# A file ID looks like: laggVyWshwcyP6kEI-y_W3P8D26sz\n",
        "file_id = '17Lo_ZxYcKO751iYs4XRyIvVXME8Lyc75'\n",
        "downloaded = drive.CreateFile({'id': file_id})\n",
        "#print('Downloaded content \"{}\"'.format(downloaded.GetContentString()))"
      ],
      "execution_count": 0,
      "outputs": []
    },
    {
      "metadata": {
        "id": "2J6b7vzqtSGU",
        "colab_type": "code",
        "colab": {
          "autoexec": {
            "startup": false,
            "wait_interval": 0
          }
        }
      },
      "cell_type": "code",
      "source": [
        "downloaded.GetContentFile('pesi.h5')"
      ],
      "execution_count": 0,
      "outputs": []
    },
    {
      "metadata": {
        "id": "jvO_pCGQugnR",
        "colab_type": "code",
        "colab": {
          "autoexec": {
            "startup": false,
            "wait_interval": 0
          }
        }
      },
      "cell_type": "code",
      "source": [
        "from keras.models import load_model\n"
      ],
      "execution_count": 0,
      "outputs": []
    },
    {
      "metadata": {
        "id": "1JcUbcJbuoak",
        "colab_type": "code",
        "colab": {
          "autoexec": {
            "startup": false,
            "wait_interval": 0
          }
        }
      },
      "cell_type": "code",
      "source": [
        "model_final.load_weights('pesi.h5')\n"
      ],
      "execution_count": 0,
      "outputs": []
    },
    {
      "metadata": {
        "id": "VWIiy1gNYuyU",
        "colab_type": "text"
      },
      "cell_type": "markdown",
      "source": [
        "# Raw output.\n",
        "Here we create a model that outputs the embedding of an input face instead of the distance between two embeddings, so we can map those outputs."
      ]
    },
    {
      "metadata": {
        "id": "mscCbMwEvI9Y",
        "colab_type": "code",
        "colab": {
          "autoexec": {
            "startup": false,
            "wait_interval": 0
          },
          "output_extras": [
            {
              "item_id": 1
            }
          ],
          "base_uri": "https://localhost:8080/",
          "height": 204
        },
        "outputId": "1e253bbc-0c22-43cf-afb7-474e6d86dc6e",
        "executionInfo": {
          "status": "ok",
          "timestamp": 1520875977798,
          "user_tz": -60,
          "elapsed": 845,
          "user": {
            "displayName": "Norman Di Palo",
            "photoUrl": "//lh5.googleusercontent.com/-hwpkiYzSctg/AAAAAAAAAAI/AAAAAAAAAkg/I59DXttMdKw/s50-c-k-no/photo.jpg",
            "userId": "109405231849327541723"
          }
        }
      },
      "cell_type": "code",
      "source": [
        "im_in1 = Input(shape=(200,200,4))\n",
        "#im_in2 = Input(shape=(200,200,4))\n",
        "\n",
        "feat_x1 = model_top(im_in1)\n",
        "#feat_x2 = model_top(im_in2)\n",
        "\n",
        "\n",
        "\n",
        "model_output = Model(inputs = im_in1, outputs = feat_x1)\n",
        "\n",
        "model_output.summary()\n",
        "\n",
        "adam = Adam(lr=0.001)\n",
        "\n",
        "sgd = SGD(lr=0.001, momentum=0.9)\n",
        "\n",
        "model_output.compile(optimizer=adam, loss=contrastive_loss)"
      ],
      "execution_count": 31,
      "outputs": [
        {
          "output_type": "stream",
          "text": [
            "_________________________________________________________________\n",
            "Layer (type)                 Output Shape              Param #   \n",
            "=================================================================\n",
            "input_5 (InputLayer)         (None, 200, 200, 4)       0         \n",
            "_________________________________________________________________\n",
            "model_2 (Model)              (None, 128)               32039552  \n",
            "=================================================================\n",
            "Total params: 32,039,552\n",
            "Trainable params: 32,039,424\n",
            "Non-trainable params: 128\n",
            "_________________________________________________________________\n"
          ],
          "name": "stdout"
        }
      ]
    },
    {
      "metadata": {
        "id": "qZuWJKRhwJRZ",
        "colab_type": "code",
        "colab": {
          "autoexec": {
            "startup": false,
            "wait_interval": 0
          },
          "output_extras": [
            {
              "item_id": 1
            }
          ],
          "base_uri": "https://localhost:8080/",
          "height": 459
        },
        "outputId": "f2880290-02be-4551-89c3-1ffb6062f10f",
        "executionInfo": {
          "status": "ok",
          "timestamp": 1520875987230,
          "user_tz": -60,
          "elapsed": 1669,
          "user": {
            "displayName": "Norman Di Palo",
            "photoUrl": "//lh5.googleusercontent.com/-hwpkiYzSctg/AAAAAAAAAAI/AAAAAAAAAkg/I59DXttMdKw/s50-c-k-no/photo.jpg",
            "userId": "109405231849327541723"
          }
        }
      },
      "cell_type": "code",
      "source": [
        "cop = create_couple_rgbd(\"faceid_val/\")\n",
        "model_output.predict(cop[0].reshape((1,200,200,4)))"
      ],
      "execution_count": 32,
      "outputs": [
        {
          "output_type": "execute_result",
          "data": {
            "text/plain": [
              "array([[ 0.16414395, -0.13870355,  0.01013375,  0.00533672,  0.12819481,\n",
              "         0.00950897,  0.0581798 ,  0.0125026 , -0.14719632, -0.0320079 ,\n",
              "         0.07111354,  0.05890286,  0.00266691, -0.01223555, -0.00381333,\n",
              "         0.00116326,  0.04405256,  0.07326933, -0.02592516, -0.05166509,\n",
              "         0.18017435, -0.06742426,  0.04962699,  0.105292  , -0.0898006 ,\n",
              "         0.0411743 ,  0.11524671, -0.16427691, -0.07334423, -0.08005075,\n",
              "         0.12541303, -0.22259332,  0.05284468, -0.09389317, -0.04294442,\n",
              "        -0.05872821,  0.10885703, -0.1348703 ,  0.16432703,  0.04767004,\n",
              "         0.14579478,  0.02009899,  0.02733266, -0.07123698,  0.13352446,\n",
              "        -0.07614288, -0.03760444,  0.05777392,  0.10022782,  0.04174699,\n",
              "         0.06108676,  0.04703509, -0.05310335, -0.0403618 ,  0.12924859,\n",
              "        -0.00420733,  0.06204433,  0.02973575, -0.08997695,  0.04855238,\n",
              "         0.01506527, -0.07634371,  0.09674198, -0.05066067,  0.13670339,\n",
              "         0.08011758, -0.04623083, -0.00054593,  0.01456751, -0.03225679,\n",
              "        -0.00324295, -0.07304905, -0.10909945, -0.14082356,  0.10926367,\n",
              "        -0.06141786,  0.05206886,  0.00635697,  0.07088174, -0.15124643,\n",
              "         0.05503514,  0.0272195 , -0.04793534, -0.02090729,  0.04632349,\n",
              "        -0.07887188,  0.08320936, -0.02269304, -0.05766648,  0.07911541,\n",
              "         0.12780257, -0.06953883, -0.05881255, -0.04288266,  0.10334536,\n",
              "        -0.07210722, -0.10482919, -0.07910118,  0.24839257,  0.05464309,\n",
              "        -0.09011574, -0.14515159,  0.00683772, -0.03234436, -0.03015377,\n",
              "        -0.16184358,  0.1080156 , -0.05953241, -0.03290075,  0.0801215 ,\n",
              "         0.0865816 , -0.04650388,  0.05712184,  0.04291632, -0.18441448,\n",
              "        -0.0605873 ,  0.04139114, -0.10240612,  0.04476995, -0.05173467,\n",
              "         0.14993647,  0.00845173,  0.14346528, -0.00341601, -0.15364479,\n",
              "        -0.06985486, -0.0282876 , -0.14075774]], dtype=float32)"
            ]
          },
          "metadata": {
            "tags": []
          },
          "execution_count": 32
        }
      ]
    },
    {
      "metadata": {
        "id": "LrVE78tyvFoQ",
        "colab_type": "code",
        "colab": {
          "autoexec": {
            "startup": false,
            "wait_interval": 0
          }
        }
      },
      "cell_type": "code",
      "source": [
        "def create_input_rgbd(file_path):\n",
        "  #  print(folder)\n",
        "    mat=np.zeros((480,640), dtype='float32')\n",
        "    i=0\n",
        "    j=0\n",
        "    depth_file = file_path\n",
        "    with open(depth_file) as file:\n",
        "        for line in file:\n",
        "            vals = line.split('\\t')\n",
        "            for val in vals:\n",
        "                if val == \"\\n\": continue    \n",
        "                if int(val) > 1200 or int(val) == -1: val= 1200\n",
        "                mat[i][j]=float(int(val))\n",
        "                j+=1\n",
        "                j=j%640\n",
        "\n",
        "            i+=1\n",
        "        mat = np.asarray(mat)\n",
        "    mat_small=mat[140:340,220:420]\n",
        "    img = Image.open(depth_file[:-5] + \"c.bmp\")\n",
        "    img.thumbnail((640,480))\n",
        "    img = np.asarray(img)\n",
        "    img = img[140:340,220:420]\n",
        "    mat_small=(mat_small-np.mean(mat_small))/np.max(mat_small)\n",
        "    plt.figure(figsize=(8,8))\n",
        "    plt.grid(True)\n",
        "    plt.xticks([])\n",
        "    plt.yticks([])\n",
        "    plt.imshow(mat_small)\n",
        "    plt.show()\n",
        "    plt.figure(figsize=(8,8))\n",
        "    plt.grid(True)\n",
        "    plt.xticks([])\n",
        "    plt.yticks([])\n",
        "    plt.imshow(img)\n",
        "    plt.show()\n",
        "    \n",
        "    \n",
        "    \n",
        "    full1 = np.zeros((200,200,4))\n",
        "    full1[:,:,:3] = img[:,:,:3]\n",
        "    full1[:,:,3] = mat_small\n",
        "    \n",
        "    return np.array([full1])"
      ],
      "execution_count": 0,
      "outputs": []
    },
    {
      "metadata": {
        "id": "PHM4NdyYY7dg",
        "colab_type": "text"
      },
      "cell_type": "markdown",
      "source": [
        "# Data visualization.\n",
        "Here we store the embeddings for all the faces in the dataset. Then, using both **t-SNE** and **PCA**, we visualize the embeddings going from 128 to 2 dimensions. "
      ]
    },
    {
      "metadata": {
        "id": "wV9Vfj12w9tq",
        "colab_type": "code",
        "colab": {
          "autoexec": {
            "startup": false,
            "wait_interval": 0
          },
          "output_extras": [
            {}
          ],
          "base_uri": "https://localhost:8080/",
          "height": 918
        },
        "outputId": "584c3613-22d7-4453-ccc1-810f4b7dc0a7",
        "executionInfo": {
          "status": "ok",
          "timestamp": 1520851881246,
          "user_tz": -60,
          "elapsed": 565824,
          "user": {
            "displayName": "Norman Di Palo",
            "photoUrl": "//lh5.googleusercontent.com/-hwpkiYzSctg/AAAAAAAAAAI/AAAAAAAAAkg/I59DXttMdKw/s50-c-k-no/photo.jpg",
            "userId": "109405231849327541723"
          }
        }
      },
      "cell_type": "code",
      "source": [
        "outputs=[]\n",
        "n=0\n",
        "for folder in glob.glob('faceid_train/*'):\n",
        "  i=0\n",
        "  for file in glob.glob(folder + '/*.dat'):\n",
        "    i+=1\n",
        "    outputs.append(model_output.predict(create_input_rgbd(file).reshape((1,200,200,4))))\n",
        "  print(i)\n",
        "  n+=1\n",
        "  print(\"Folder \", n, \" of \", len(glob.glob('faceid_train/*')))\n",
        "print(len(outputs))"
      ],
      "execution_count": 0,
      "outputs": [
        {
          "output_type": "stream",
          "text": [
            "51\n",
            "Folder  1  of  26\n",
            "51\n",
            "Folder  1  of  26\n",
            "51\n",
            "Folder  1  of  26\n",
            "51\n",
            "Folder  1  of  26\n",
            "51\n",
            "Folder  1  of  26\n",
            "51\n",
            "Folder  1  of  26\n",
            "51\n",
            "Folder  1  of  26\n",
            "51\n",
            "Folder  1  of  26\n",
            "51\n",
            "Folder  1  of  26\n",
            "51\n",
            "Folder  1  of  26\n",
            "51\n",
            "Folder  1  of  26\n",
            "51\n",
            "Folder  1  of  26\n",
            "51\n",
            "Folder  1  of  26\n",
            "51\n",
            "Folder  1  of  26\n",
            "51\n",
            "Folder  1  of  26\n",
            "51\n",
            "Folder  1  of  26\n",
            "51\n",
            "Folder  1  of  26\n",
            "51\n",
            "Folder  1  of  26\n",
            "51\n",
            "Folder  1  of  26\n",
            "51\n",
            "Folder  1  of  26\n",
            "51\n",
            "Folder  1  of  26\n",
            "51\n",
            "Folder  1  of  26\n",
            "51\n",
            "Folder  1  of  26\n",
            "51\n",
            "Folder  1  of  26\n",
            "51\n",
            "Folder  1  of  26\n",
            "51\n",
            "Folder  1  of  26\n",
            "1326\n"
          ],
          "name": "stdout"
        }
      ]
    },
    {
      "metadata": {
        "id": "xHWd60a2yTDt",
        "colab_type": "code",
        "colab": {
          "autoexec": {
            "startup": false,
            "wait_interval": 0
          },
          "output_extras": [
            {}
          ],
          "base_uri": "https://localhost:8080/",
          "height": 34
        },
        "outputId": "3e831841-be05-4bdf-84e4-054c4676d9cf",
        "executionInfo": {
          "status": "ok",
          "timestamp": 1520852122459,
          "user_tz": -60,
          "elapsed": 646,
          "user": {
            "displayName": "Norman Di Palo",
            "photoUrl": "//lh5.googleusercontent.com/-hwpkiYzSctg/AAAAAAAAAAI/AAAAAAAAAkg/I59DXttMdKw/s50-c-k-no/photo.jpg",
            "userId": "109405231849327541723"
          }
        }
      },
      "cell_type": "code",
      "source": [
        "outputs= np.asarray(outputs)\n",
        "outputs = outputs.reshape((-1,128))\n",
        "outputs.shape"
      ],
      "execution_count": 0,
      "outputs": [
        {
          "output_type": "execute_result",
          "data": {
            "text/plain": [
              "(1326, 128)"
            ]
          },
          "metadata": {
            "tags": []
          },
          "execution_count": 81
        }
      ]
    },
    {
      "metadata": {
        "id": "Bi5voxYF1kon",
        "colab_type": "code",
        "colab": {
          "autoexec": {
            "startup": false,
            "wait_interval": 0
          }
        }
      },
      "cell_type": "code",
      "source": [
        "import sklearn\n",
        "from sklearn.manifold import TSNE\n"
      ],
      "execution_count": 0,
      "outputs": []
    },
    {
      "metadata": {
        "id": "R8DUpgGa1pzg",
        "colab_type": "code",
        "colab": {
          "autoexec": {
            "startup": false,
            "wait_interval": 0
          },
          "output_extras": [
            {}
          ],
          "base_uri": "https://localhost:8080/",
          "height": 34
        },
        "outputId": "3ed7628d-9744-46fd-d9bb-6c31d937e12c",
        "executionInfo": {
          "status": "ok",
          "timestamp": 1520853394538,
          "user_tz": -60,
          "elapsed": 20571,
          "user": {
            "displayName": "Norman Di Palo",
            "photoUrl": "//lh5.googleusercontent.com/-hwpkiYzSctg/AAAAAAAAAAI/AAAAAAAAAkg/I59DXttMdKw/s50-c-k-no/photo.jpg",
            "userId": "109405231849327541723"
          }
        }
      },
      "cell_type": "code",
      "source": [
        "X_embedded = TSNE(2).fit_transform(outputs)\n",
        "X_embedded.shape"
      ],
      "execution_count": 0,
      "outputs": [
        {
          "output_type": "execute_result",
          "data": {
            "text/plain": [
              "(1326, 2)"
            ]
          },
          "metadata": {
            "tags": []
          },
          "execution_count": 116
        }
      ]
    },
    {
      "metadata": {
        "id": "kE8K5L226qXM",
        "colab_type": "code",
        "colab": {
          "autoexec": {
            "startup": false,
            "wait_interval": 0
          },
          "output_extras": [
            {}
          ],
          "base_uri": "https://localhost:8080/",
          "height": 34
        },
        "outputId": "1b60b83b-9138-4798-fc07-5b081474a11a",
        "executionInfo": {
          "status": "ok",
          "timestamp": 1520853532457,
          "user_tz": -60,
          "elapsed": 691,
          "user": {
            "displayName": "Norman Di Palo",
            "photoUrl": "//lh5.googleusercontent.com/-hwpkiYzSctg/AAAAAAAAAAI/AAAAAAAAAkg/I59DXttMdKw/s50-c-k-no/photo.jpg",
            "userId": "109405231849327541723"
          }
        }
      },
      "cell_type": "code",
      "source": [
        "import numpy as np\n",
        "from sklearn.decomposition import PCA\n",
        "\n",
        "X_PCA = PCA(3).fit_transform(outputs)\n",
        "print(X_PCA.shape)\n",
        "\n",
        "#X_embedded = TSNE(2).fit_transform(X_PCA)\n",
        "#print(X_embedded.shape)"
      ],
      "execution_count": 0,
      "outputs": [
        {
          "output_type": "stream",
          "text": [
            "(1326, 3)\n"
          ],
          "name": "stdout"
        }
      ]
    },
    {
      "metadata": {
        "id": "XJjBf2Lm2dMV",
        "colab_type": "code",
        "colab": {
          "autoexec": {
            "startup": false,
            "wait_interval": 0
          }
        }
      },
      "cell_type": "code",
      "source": [
        "import matplotlib.pyplot as plt"
      ],
      "execution_count": 0,
      "outputs": []
    },
    {
      "metadata": {
        "id": "FOTZ9fEr2lGK",
        "colab_type": "code",
        "colab": {
          "autoexec": {
            "startup": false,
            "wait_interval": 0
          },
          "output_extras": [
            {}
          ],
          "base_uri": "https://localhost:8080/",
          "height": 347
        },
        "outputId": "146076e0-3761-45af-c9b4-e15eafe8b15c",
        "executionInfo": {
          "status": "ok",
          "timestamp": 1520853507543,
          "user_tz": -60,
          "elapsed": 7832,
          "user": {
            "displayName": "Norman Di Palo",
            "photoUrl": "//lh5.googleusercontent.com/-hwpkiYzSctg/AAAAAAAAAAI/AAAAAAAAAkg/I59DXttMdKw/s50-c-k-no/photo.jpg",
            "userId": "109405231849327541723"
          }
        }
      },
      "cell_type": "code",
      "source": [
        "color = 0\n",
        "for i in range(len((X_embedded))):\n",
        "  el = X_embedded[i]\n",
        "  if i % 51 == 0 and not i==0:\n",
        "    color+=1\n",
        "    color=color%10\n",
        "  plt.scatter(el[0], el[1], color=\"C\" + str(color))"
      ],
      "execution_count": 0,
      "outputs": [
        {
          "output_type": "display_data",
          "data": {
            "image/png": "[encoded data removed]",
            "text/plain": [
              "<matplotlib.figure.Figure at 0x7f67215e5668>"
            ]
          },
          "metadata": {
            "tags": []
          }
        }
      ]
    },
    {
      "metadata": {
        "id": "sKnEVXGmZK01",
        "colab_type": "text"
      },
      "cell_type": "markdown",
      "source": [
        "# Distance between two arbitrary RGBD pictures."
      ]
    },
    {
      "metadata": {
        "id": "h9w-piJV11-g",
        "colab_type": "code",
        "colab": {
          "autoexec": {
            "startup": false,
            "wait_interval": 0
          },
          "output_extras": [
            {
              "item_id": 1
            },
            {
              "item_id": 2
            },
            {
              "item_id": 3
            },
            {
              "item_id": 4
            },
            {
              "item_id": 5
            }
          ],
          "base_uri": "https://localhost:8080/",
          "height": 1830
        },
        "outputId": "ed13ad90-0992-4d49-f55a-d5211d30f84c",
        "executionInfo": {
          "status": "ok",
          "timestamp": 1520878039179,
          "user_tz": -60,
          "elapsed": 2548,
          "user": {
            "displayName": "Norman Di Palo",
            "photoUrl": "//lh5.googleusercontent.com/-hwpkiYzSctg/AAAAAAAAAAI/AAAAAAAAAkg/I59DXttMdKw/s50-c-k-no/photo.jpg",
            "userId": "109405231849327541723"
          }
        }
      },
      "cell_type": "code",
      "source": [
        "\n",
        "file1 = ('faceid_train/(2012-05-16)(154211)/015_1_d.dat')\n",
        "inp1 = create_input_rgbd(file1)\n",
        "file1 = ('faceid_train/(2012-05-16)(154211)/011_1_d.dat')\n",
        "inp2 = create_input_rgbd(file1)\n",
        "\n",
        "model_final.predict([inp1, inp2])\n"
      ],
      "execution_count": 74,
      "outputs": [
        {
          "output_type": "display_data",
          "data": {
            "image/png": "[encoded data removed]",
            "text/plain": [
              "<matplotlib.figure.Figure at 0x7f91237ab860>"
            ]
          },
          "metadata": {
            "tags": []
          }
        },
        {
          "output_type": "display_data",
          "data": {
            "image/png": "[encoded data removed]",
            "text/plain": [
              "<matplotlib.figure.Figure at 0x7f9123c4dfd0>"
            ]
          },
          "metadata": {
            "tags": []
          }
        },
        {
          "output_type": "display_data",
          "data": {
            "image/png": "[encoded data removed]",
            "text/plain": [
              "<matplotlib.figure.Figure at 0x7f912376e198>"
            ]
          },
          "metadata": {
            "tags": []
          }
        },
        {
          "output_type": "display_data",
          "data": {
            "image/png": "[encoded data removed]",
            "text/plain": [
              "<matplotlib.figure.Figure at 0x7f9123679ef0>"
            ]
          },
          "metadata": {
            "tags": []
          }
        },
        {
          "output_type": "execute_result",
          "data": {
            "text/plain": [
              "array([[0.30020022]], dtype=float32)"
            ]
          },
          "metadata": {
            "tags": []
          },
          "execution_count": 74
        }
      ]
    },
    {
      "metadata": {
        "id": "g2XhC-G6C08z",
        "colab_type": "code",
        "colab": {
          "autoexec": {
            "startup": false,
            "wait_interval": 0
          }
        }
      },
      "cell_type": "code",
      "source": [
        ""
      ],
      "execution_count": 0,
      "outputs": []
    }
  ]
}